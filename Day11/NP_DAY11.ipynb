{
 "cells": [
  {
   "cell_type": "code",
   "execution_count": 9,
   "id": "24b725f9",
   "metadata": {},
   "outputs": [
    {
     "data": {
      "text/plain": [
       "order_id                 object\n",
       "order_date       datetime64[ns]\n",
       "customer_name            object\n",
       "city                     object\n",
       "category                 object\n",
       "product_id               object\n",
       "sales                   float64\n",
       "profit                  float64\n",
       "dtype: object"
      ]
     },
     "execution_count": 9,
     "metadata": {},
     "output_type": "execute_result"
    }
   ],
   "source": [
    "import pandas as pd\n",
    "#df = pd.read_csv('orders.txt',parse_dates=['order_date'])\n",
    "\n",
    "df = pd.read_csv('orders.txt')\n",
    "df['order_date']=pd.to_datetime(df['order_date'])\n",
    "df.dtypes"
   ]
  },
  {
   "cell_type": "code",
   "execution_count": 26,
   "id": "677c828d",
   "metadata": {},
   "outputs": [
    {
     "name": "stdout",
     "output_type": "stream",
     "text": [
      "2.0.2\n"
     ]
    }
   ],
   "source": [
    "print(pd. __version__)"
   ]
  },
  {
   "cell_type": "code",
   "execution_count": 28,
   "id": "447224a2",
   "metadata": {},
   "outputs": [
    {
     "data": {
      "text/plain": [
       "Index(['2020/15/01', '2021-04-05'], dtype='object')"
      ]
     },
     "execution_count": 28,
     "metadata": {},
     "output_type": "execute_result"
    }
   ],
   "source": [
    "dates = ['2020/15/01','2021-04-05']\n",
    "#pd.to_datetime(dates, format = '%Y$%m$%d')\n",
    "pd.to_datetime(dates, format='mixed',errors='ignore')"
   ]
  },
  {
   "cell_type": "code",
   "execution_count": 54,
   "id": "2d30160d",
   "metadata": {},
   "outputs": [
    {
     "data": {
      "text/html": [
       "<div>\n",
       "<style scoped>\n",
       "    .dataframe tbody tr th:only-of-type {\n",
       "        vertical-align: middle;\n",
       "    }\n",
       "\n",
       "    .dataframe tbody tr th {\n",
       "        vertical-align: top;\n",
       "    }\n",
       "\n",
       "    .dataframe thead th {\n",
       "        text-align: right;\n",
       "    }\n",
       "</style>\n",
       "<table border=\"1\" class=\"dataframe\">\n",
       "  <thead>\n",
       "    <tr style=\"text-align: right;\">\n",
       "      <th></th>\n",
       "      <th>order_id</th>\n",
       "      <th>customer_name</th>\n",
       "      <th>city</th>\n",
       "      <th>category</th>\n",
       "      <th>product_id</th>\n",
       "      <th>sales</th>\n",
       "      <th>profit</th>\n",
       "    </tr>\n",
       "    <tr>\n",
       "      <th>order_date</th>\n",
       "      <th></th>\n",
       "      <th></th>\n",
       "      <th></th>\n",
       "      <th></th>\n",
       "      <th></th>\n",
       "      <th></th>\n",
       "      <th></th>\n",
       "    </tr>\n",
       "  </thead>\n",
       "  <tbody>\n",
       "    <tr>\n",
       "      <th>2020-01-02</th>\n",
       "      <td>CA-2020-160304</td>\n",
       "      <td>Brendan Murry</td>\n",
       "      <td>Gaithersburg</td>\n",
       "      <td>Furniture</td>\n",
       "      <td>FUR-BO-10004709</td>\n",
       "      <td>173.940</td>\n",
       "      <td>38.2668</td>\n",
       "    </tr>\n",
       "    <tr>\n",
       "      <th>2020-01-03</th>\n",
       "      <td>US-2020-116365</td>\n",
       "      <td>Christine Abelman</td>\n",
       "      <td>San Antonio</td>\n",
       "      <td>Technology</td>\n",
       "      <td>TEC-AC-10002217</td>\n",
       "      <td>30.080</td>\n",
       "      <td>-5.2640</td>\n",
       "    </tr>\n",
       "    <tr>\n",
       "      <th>2020-01-03</th>\n",
       "      <td>CA-2020-125206</td>\n",
       "      <td>Lena Radford</td>\n",
       "      <td>Los Angeles</td>\n",
       "      <td>Office Supplies</td>\n",
       "      <td>OFF-ST-10003692</td>\n",
       "      <td>114.460</td>\n",
       "      <td>28.6150</td>\n",
       "    </tr>\n",
       "    <tr>\n",
       "      <th>2020-01-03</th>\n",
       "      <td>CA-2020-105207</td>\n",
       "      <td>Bill Overfelt</td>\n",
       "      <td>Broken Arrow</td>\n",
       "      <td>Furniture</td>\n",
       "      <td>FUR-TA-10000617</td>\n",
       "      <td>1592.850</td>\n",
       "      <td>350.4270</td>\n",
       "    </tr>\n",
       "    <tr>\n",
       "      <th>2020-01-04</th>\n",
       "      <td>US-2020-164630</td>\n",
       "      <td>Erica Bern</td>\n",
       "      <td>Charlotte</td>\n",
       "      <td>Technology</td>\n",
       "      <td>TEC-CO-10000971</td>\n",
       "      <td>959.968</td>\n",
       "      <td>119.9960</td>\n",
       "    </tr>\n",
       "    <tr>\n",
       "      <th>2020-01-04</th>\n",
       "      <td>CA-2020-158211</td>\n",
       "      <td>Ben Peterman</td>\n",
       "      <td>Philadelphia</td>\n",
       "      <td>Office Supplies</td>\n",
       "      <td>OFF-AR-10004078</td>\n",
       "      <td>4.672</td>\n",
       "      <td>0.5840</td>\n",
       "    </tr>\n",
       "    <tr>\n",
       "      <th>2020-01-05</th>\n",
       "      <td>CA-2020-134474</td>\n",
       "      <td>Anthony Johnson</td>\n",
       "      <td>Jacksonville</td>\n",
       "      <td>Office Supplies</td>\n",
       "      <td>OFF-AR-10003958</td>\n",
       "      <td>5.248</td>\n",
       "      <td>0.5904</td>\n",
       "    </tr>\n",
       "  </tbody>\n",
       "</table>\n",
       "</div>"
      ],
      "text/plain": [
       "                  order_id      customer_name          city         category  \\\n",
       "order_date                                                                     \n",
       "2020-01-02  CA-2020-160304      Brendan Murry  Gaithersburg        Furniture   \n",
       "2020-01-03  US-2020-116365  Christine Abelman   San Antonio       Technology   \n",
       "2020-01-03  CA-2020-125206       Lena Radford   Los Angeles  Office Supplies   \n",
       "2020-01-03  CA-2020-105207      Bill Overfelt  Broken Arrow        Furniture   \n",
       "2020-01-04  US-2020-164630         Erica Bern     Charlotte       Technology   \n",
       "2020-01-04  CA-2020-158211       Ben Peterman  Philadelphia  Office Supplies   \n",
       "2020-01-05  CA-2020-134474    Anthony Johnson  Jacksonville  Office Supplies   \n",
       "\n",
       "                 product_id     sales    profit  \n",
       "order_date                                       \n",
       "2020-01-02  FUR-BO-10004709   173.940   38.2668  \n",
       "2020-01-03  TEC-AC-10002217    30.080   -5.2640  \n",
       "2020-01-03  OFF-ST-10003692   114.460   28.6150  \n",
       "2020-01-03  FUR-TA-10000617  1592.850  350.4270  \n",
       "2020-01-04  TEC-CO-10000971   959.968  119.9960  \n",
       "2020-01-04  OFF-AR-10004078     4.672    0.5840  \n",
       "2020-01-05  OFF-AR-10003958     5.248    0.5904  "
      ]
     },
     "execution_count": 54,
     "metadata": {},
     "output_type": "execute_result"
    }
   ],
   "source": [
    "#df = pd.read_csv('orders.txt',parse_dates=['order_date'],index_col='order_date')\n",
    "#df.loc['2020-01-01':'2020-01-05']\n",
    "#df.sort_index(inplace=True)\n",
    "#f.loc['2020-01-01' :'2020-03-01']\n",
    "df.loc['2020-01-01':'2020-01-05']"
   ]
  },
  {
   "cell_type": "code",
   "execution_count": 57,
   "id": "b7f8e576",
   "metadata": {},
   "outputs": [
    {
     "data": {
      "text/plain": [
       "order_date       datetime64[ns]\n",
       "order_id                 object\n",
       "customer_name            object\n",
       "city                     object\n",
       "category                 object\n",
       "product_id               object\n",
       "sales                   float64\n",
       "profit                  float64\n",
       "dtype: object"
      ]
     },
     "execution_count": 57,
     "metadata": {},
     "output_type": "execute_result"
    }
   ],
   "source": [
    "df.dtypes"
   ]
  },
  {
   "cell_type": "code",
   "execution_count": 63,
   "id": "05ee8a1e",
   "metadata": {},
   "outputs": [
    {
     "data": {
      "text/plain": [
       "0       Wednesday\n",
       "1        Thursday\n",
       "2          Friday\n",
       "3        Saturday\n",
       "4        Saturday\n",
       "          ...    \n",
       "5004    Wednesday\n",
       "5005     Thursday\n",
       "5006     Thursday\n",
       "5007     Thursday\n",
       "5008     Thursday\n",
       "Name: order_date, Length: 5009, dtype: object"
      ]
     },
     "execution_count": 63,
     "metadata": {},
     "output_type": "execute_result"
    }
   ],
   "source": [
    "df['order_date'].dt.day_name()"
   ]
  },
  {
   "cell_type": "code",
   "execution_count": 64,
   "id": "ca2eca26",
   "metadata": {},
   "outputs": [],
   "source": [
    "#pip install matplotlib\n",
    "%matplotlib inline"
   ]
  },
  {
   "cell_type": "code",
   "execution_count": 67,
   "id": "dd8a19fa",
   "metadata": {},
   "outputs": [
    {
     "data": {
      "text/plain": [
       "<Axes: xlabel='category'>"
      ]
     },
     "execution_count": 67,
     "metadata": {},
     "output_type": "execute_result"
    },
    {
     "data": {
      "image/png": "[encoded data removed]",
      "text/plain": [
       "<Figure size 640x480 with 1 Axes>"
      ]
     },
     "metadata": {},
     "output_type": "display_data"
    }
   ],
   "source": [
    "df.plot('category','sales',kind='bar')"
   ]
  },
  {
   "cell_type": "code",
   "execution_count": 68,
   "id": "74e8cd5f",
   "metadata": {},
   "outputs": [],
   "source": [
    "df = pd.read_csv('orders.txt',parse_dates=['order_date'],index_col='order_date')"
   ]
  },
  {
   "cell_type": "code",
   "execution_count": 70,
   "id": "df0e40f4",
   "metadata": {},
   "outputs": [
    {
     "data": {
      "text/plain": [
       "<Axes: xlabel='order_date'>"
      ]
     },
     "execution_count": 70,
     "metadata": {},
     "output_type": "execute_result"
    },
    {
     "data": {
      "image/png": "[encoded data removed]",
      "text/plain": [
       "<Figure size 640x480 with 1 Axes>"
      ]
     },
     "metadata": {},
     "output_type": "display_data"
    }
   ],
   "source": [
    "df['sales'].plot(kind=)"
   ]
  },
  {
   "cell_type": "code",
   "execution_count": 74,
   "id": "528371aa",
   "metadata": {},
   "outputs": [
    {
     "data": {
      "text/plain": [
       "<Axes: xlabel='city'>"
      ]
     },
     "execution_count": 74,
     "metadata": {},
     "output_type": "execute_result"
    },
    {
     "data": {
      "image/png": "[encoded data removed]",
      "text/plain": [
       "<Figure size 640x480 with 1 Axes>"
      ]
     },
     "metadata": {},
     "output_type": "display_data"
    }
   ],
   "source": [
    "df.groupby('city')['sales'].sum().plot(kind='bar')"
   ]
  },
  {
   "cell_type": "code",
   "execution_count": 81,
   "id": "b695bcc6",
   "metadata": {},
   "outputs": [
    {
     "data": {
      "text/plain": [
       "<Axes: title={'center': 'my first chart'}, xlabel='order_date'>"
      ]
     },
     "execution_count": 81,
     "metadata": {},
     "output_type": "execute_result"
    },
    {
     "data": {
      "image/png": "[encoded data removed]",
      "text/plain": [
       "<Figure size 640x480 with 1 Axes>"
      ]
     },
     "metadata": {},
     "output_type": "display_data"
    }
   ],
   "source": [
    "df['profit'].resample('Q').sum().plot(title='my first chart')"
   ]
  },
  {
   "cell_type": "code",
   "execution_count": null,
   "id": "f5776513",
   "metadata": {},
   "outputs": [],
   "source": []
  },
  {
   "cell_type": "code",
   "execution_count": 86,
   "id": "569548ed",
   "metadata": {
    "scrolled": true
   },
   "outputs": [
    {
     "data": {
      "text/html": [
       "<div>\n",
       "<style scoped>\n",
       "    .dataframe tbody tr th:only-of-type {\n",
       "        vertical-align: middle;\n",
       "    }\n",
       "\n",
       "    .dataframe tbody tr th {\n",
       "        vertical-align: top;\n",
       "    }\n",
       "\n",
       "    .dataframe thead th {\n",
       "        text-align: right;\n",
       "    }\n",
       "</style>\n",
       "<table border=\"1\" class=\"dataframe\">\n",
       "  <thead>\n",
       "    <tr style=\"text-align: right;\">\n",
       "      <th></th>\n",
       "      <th>order_id</th>\n",
       "      <th>customer_name</th>\n",
       "      <th>city</th>\n",
       "      <th>category</th>\n",
       "      <th>product_id</th>\n",
       "      <th>sales</th>\n",
       "      <th>profit</th>\n",
       "      <th>sales_int</th>\n",
       "    </tr>\n",
       "    <tr>\n",
       "      <th>order_date</th>\n",
       "      <th></th>\n",
       "      <th></th>\n",
       "      <th></th>\n",
       "      <th></th>\n",
       "      <th></th>\n",
       "      <th></th>\n",
       "      <th></th>\n",
       "      <th></th>\n",
       "    </tr>\n",
       "  </thead>\n",
       "  <tbody>\n",
       "    <tr>\n",
       "      <th>2018-09-07</th>\n",
       "      <td>CA-2018-100006</td>\n",
       "      <td>Dennis Kane</td>\n",
       "      <td>New York City</td>\n",
       "      <td>Technology</td>\n",
       "      <td>TEC-PH-10002075</td>\n",
       "      <td>377.970</td>\n",
       "      <td>109.6113</td>\n",
       "      <td>377</td>\n",
       "    </tr>\n",
       "    <tr>\n",
       "      <th>2018-07-08</th>\n",
       "      <td>CA-2018-100090</td>\n",
       "      <td>Ed Braxton</td>\n",
       "      <td>San Francisco</td>\n",
       "      <td>Furniture</td>\n",
       "      <td>FUR-TA-10003715</td>\n",
       "      <td>502.488</td>\n",
       "      <td>-87.9354</td>\n",
       "      <td>502</td>\n",
       "    </tr>\n",
       "    <tr>\n",
       "      <th>2018-03-14</th>\n",
       "      <td>CA-2018-100293</td>\n",
       "      <td>Neil Französisch</td>\n",
       "      <td>Jacksonville</td>\n",
       "      <td>Office Supplies</td>\n",
       "      <td>OFF-PA-10000176</td>\n",
       "      <td>91.056</td>\n",
       "      <td>31.8696</td>\n",
       "      <td>91</td>\n",
       "    </tr>\n",
       "    <tr>\n",
       "      <th>2018-01-28</th>\n",
       "      <td>CA-2018-100328</td>\n",
       "      <td>Jasper Cacioppo</td>\n",
       "      <td>New York City</td>\n",
       "      <td>Office Supplies</td>\n",
       "      <td>OFF-BI-10000343</td>\n",
       "      <td>3.928</td>\n",
       "      <td>1.3257</td>\n",
       "      <td>3</td>\n",
       "    </tr>\n",
       "    <tr>\n",
       "      <th>2018-04-08</th>\n",
       "      <td>CA-2018-100363</td>\n",
       "      <td>Jim Mitchum</td>\n",
       "      <td>Glendale</td>\n",
       "      <td>Office Supplies</td>\n",
       "      <td>OFF-FA-10000611</td>\n",
       "      <td>2.368</td>\n",
       "      <td>0.8288</td>\n",
       "      <td>2</td>\n",
       "    </tr>\n",
       "    <tr>\n",
       "      <th>...</th>\n",
       "      <td>...</td>\n",
       "      <td>...</td>\n",
       "      <td>...</td>\n",
       "      <td>...</td>\n",
       "      <td>...</td>\n",
       "      <td>...</td>\n",
       "      <td>...</td>\n",
       "      <td>...</td>\n",
       "    </tr>\n",
       "    <tr>\n",
       "      <th>2021-11-03</th>\n",
       "      <td>US-2021-168802</td>\n",
       "      <td>Jack O'Briant</td>\n",
       "      <td>Seattle</td>\n",
       "      <td>Office Supplies</td>\n",
       "      <td>OFF-BI-10002393</td>\n",
       "      <td>18.368</td>\n",
       "      <td>5.9696</td>\n",
       "      <td>18</td>\n",
       "    </tr>\n",
       "    <tr>\n",
       "      <th>2021-07-23</th>\n",
       "      <td>US-2021-169320</td>\n",
       "      <td>Lena Hernandez</td>\n",
       "      <td>Elkhart</td>\n",
       "      <td>Office Supplies</td>\n",
       "      <td>OFF-AR-10003602</td>\n",
       "      <td>11.680</td>\n",
       "      <td>5.4896</td>\n",
       "      <td>11</td>\n",
       "    </tr>\n",
       "    <tr>\n",
       "      <th>2021-09-07</th>\n",
       "      <td>US-2021-169488</td>\n",
       "      <td>Allen Armold</td>\n",
       "      <td>Providence</td>\n",
       "      <td>Office Supplies</td>\n",
       "      <td>OFF-PA-10000157</td>\n",
       "      <td>39.960</td>\n",
       "      <td>18.7812</td>\n",
       "      <td>39</td>\n",
       "    </tr>\n",
       "    <tr>\n",
       "      <th>2021-08-28</th>\n",
       "      <td>US-2021-169502</td>\n",
       "      <td>Matthew Grinstein</td>\n",
       "      <td>Milwaukee</td>\n",
       "      <td>Office Supplies</td>\n",
       "      <td>OFF-AP-10001947</td>\n",
       "      <td>91.600</td>\n",
       "      <td>26.5640</td>\n",
       "      <td>91</td>\n",
       "    </tr>\n",
       "    <tr>\n",
       "      <th>2021-07-07</th>\n",
       "      <td>US-2021-169551</td>\n",
       "      <td>Rob Lucas</td>\n",
       "      <td>Philadelphia</td>\n",
       "      <td>Furniture</td>\n",
       "      <td>FUR-BO-10001519</td>\n",
       "      <td>87.210</td>\n",
       "      <td>-45.3492</td>\n",
       "      <td>87</td>\n",
       "    </tr>\n",
       "  </tbody>\n",
       "</table>\n",
       "<p>5009 rows × 8 columns</p>\n",
       "</div>"
      ],
      "text/plain": [
       "                  order_id      customer_name           city         category  \\\n",
       "order_date                                                                      \n",
       "2018-09-07  CA-2018-100006        Dennis Kane  New York City       Technology   \n",
       "2018-07-08  CA-2018-100090         Ed Braxton  San Francisco        Furniture   \n",
       "2018-03-14  CA-2018-100293   Neil Französisch   Jacksonville  Office Supplies   \n",
       "2018-01-28  CA-2018-100328    Jasper Cacioppo  New York City  Office Supplies   \n",
       "2018-04-08  CA-2018-100363        Jim Mitchum       Glendale  Office Supplies   \n",
       "...                    ...                ...            ...              ...   \n",
       "2021-11-03  US-2021-168802      Jack O'Briant        Seattle  Office Supplies   \n",
       "2021-07-23  US-2021-169320     Lena Hernandez        Elkhart  Office Supplies   \n",
       "2021-09-07  US-2021-169488       Allen Armold     Providence  Office Supplies   \n",
       "2021-08-28  US-2021-169502  Matthew Grinstein      Milwaukee  Office Supplies   \n",
       "2021-07-07  US-2021-169551          Rob Lucas   Philadelphia        Furniture   \n",
       "\n",
       "                 product_id    sales    profit  sales_int  \n",
       "order_date                                                 \n",
       "2018-09-07  TEC-PH-10002075  377.970  109.6113        377  \n",
       "2018-07-08  FUR-TA-10003715  502.488  -87.9354        502  \n",
       "2018-03-14  OFF-PA-10000176   91.056   31.8696         91  \n",
       "2018-01-28  OFF-BI-10000343    3.928    1.3257          3  \n",
       "2018-04-08  OFF-FA-10000611    2.368    0.8288          2  \n",
       "...                     ...      ...       ...        ...  \n",
       "2021-11-03  OFF-BI-10002393   18.368    5.9696         18  \n",
       "2021-07-23  OFF-AR-10003602   11.680    5.4896         11  \n",
       "2021-09-07  OFF-PA-10000157   39.960   18.7812         39  \n",
       "2021-08-28  OFF-AP-10001947   91.600   26.5640         91  \n",
       "2021-07-07  FUR-BO-10001519   87.210  -45.3492         87  \n",
       "\n",
       "[5009 rows x 8 columns]"
      ]
     },
     "execution_count": 86,
     "metadata": {},
     "output_type": "execute_result"
    }
   ],
   "source": [
    "#df['sales_int']= df['sales'].astype('int')\n",
    "df"
   ]
  },
  {
   "cell_type": "code",
   "execution_count": null,
   "id": "512eb0cd",
   "metadata": {},
   "outputs": [],
   "source": []
  },
  {
   "cell_type": "code",
   "execution_count": 96,
   "id": "dfd7cd85",
   "metadata": {
    "scrolled": true
   },
   "outputs": [
    {
     "data": {
      "text/html": [
       "<div>\n",
       "<style scoped>\n",
       "    .dataframe tbody tr th:only-of-type {\n",
       "        vertical-align: middle;\n",
       "    }\n",
       "\n",
       "    .dataframe tbody tr th {\n",
       "        vertical-align: top;\n",
       "    }\n",
       "\n",
       "    .dataframe thead th {\n",
       "        text-align: right;\n",
       "    }\n",
       "</style>\n",
       "<table border=\"1\" class=\"dataframe\">\n",
       "  <thead>\n",
       "    <tr style=\"text-align: right;\">\n",
       "      <th></th>\n",
       "      <th>order_id</th>\n",
       "      <th>order_date</th>\n",
       "      <th>customer_name</th>\n",
       "      <th>city</th>\n",
       "      <th>category</th>\n",
       "      <th>product_id</th>\n",
       "      <th>sales</th>\n",
       "      <th>profit</th>\n",
       "    </tr>\n",
       "  </thead>\n",
       "  <tbody>\n",
       "    <tr>\n",
       "      <th>0</th>\n",
       "      <td>CA-2018-100006</td>\n",
       "      <td>2018-09-07</td>\n",
       "      <td>Dennis Kane</td>\n",
       "      <td>New York City</td>\n",
       "      <td>Technology</td>\n",
       "      <td>TEC-PH-10002075</td>\n",
       "      <td>NaN</td>\n",
       "      <td>109.6113</td>\n",
       "    </tr>\n",
       "  </tbody>\n",
       "</table>\n",
       "</div>"
      ],
      "text/plain": [
       "         order_id  order_date customer_name           city    category  \\\n",
       "0  CA-2018-100006  2018-09-07   Dennis Kane  New York City  Technology   \n",
       "\n",
       "        product_id  sales    profit  \n",
       "0  TEC-PH-10002075    NaN  109.6113  "
      ]
     },
     "execution_count": 96,
     "metadata": {},
     "output_type": "execute_result"
    }
   ],
   "source": [
    "#import numpy as np\n",
    "#df = pd.read_csv('orders.txt')\n",
    "#df.dtypes\n",
    "#df['sales'].fillna(0).astype('int')\n",
    "df[df['sales'].isna()]"
   ]
  },
  {
   "cell_type": "code",
   "execution_count": 101,
   "id": "fe23a6f9",
   "metadata": {},
   "outputs": [
    {
     "data": {
      "text/html": [
       "<div>\n",
       "<style scoped>\n",
       "    .dataframe tbody tr th:only-of-type {\n",
       "        vertical-align: middle;\n",
       "    }\n",
       "\n",
       "    .dataframe tbody tr th {\n",
       "        vertical-align: top;\n",
       "    }\n",
       "\n",
       "    .dataframe thead th {\n",
       "        text-align: right;\n",
       "    }\n",
       "</style>\n",
       "<table border=\"1\" class=\"dataframe\">\n",
       "  <thead>\n",
       "    <tr style=\"text-align: right;\">\n",
       "      <th>category</th>\n",
       "      <th>Furniture</th>\n",
       "      <th>Office Supplies</th>\n",
       "      <th>Technology</th>\n",
       "    </tr>\n",
       "    <tr>\n",
       "      <th>city</th>\n",
       "      <th></th>\n",
       "      <th></th>\n",
       "      <th></th>\n",
       "    </tr>\n",
       "  </thead>\n",
       "  <tbody>\n",
       "    <tr>\n",
       "      <th>Aberdeen</th>\n",
       "      <td>NaN</td>\n",
       "      <td>25.500</td>\n",
       "      <td>NaN</td>\n",
       "    </tr>\n",
       "    <tr>\n",
       "      <th>Abilene</th>\n",
       "      <td>NaN</td>\n",
       "      <td>1.392</td>\n",
       "      <td>NaN</td>\n",
       "    </tr>\n",
       "    <tr>\n",
       "      <th>Akron</th>\n",
       "      <td>433.596</td>\n",
       "      <td>373.358</td>\n",
       "      <td>279.960</td>\n",
       "    </tr>\n",
       "    <tr>\n",
       "      <th>Albuquerque</th>\n",
       "      <td>NaN</td>\n",
       "      <td>445.832</td>\n",
       "      <td>302.376</td>\n",
       "    </tr>\n",
       "    <tr>\n",
       "      <th>Alexandria</th>\n",
       "      <td>204.640</td>\n",
       "      <td>153.780</td>\n",
       "      <td>NaN</td>\n",
       "    </tr>\n",
       "    <tr>\n",
       "      <th>...</th>\n",
       "      <td>...</td>\n",
       "      <td>...</td>\n",
       "      <td>...</td>\n",
       "    </tr>\n",
       "    <tr>\n",
       "      <th>Woonsocket</th>\n",
       "      <td>52.960</td>\n",
       "      <td>97.230</td>\n",
       "      <td>NaN</td>\n",
       "    </tr>\n",
       "    <tr>\n",
       "      <th>Yonkers</th>\n",
       "      <td>851.482</td>\n",
       "      <td>70.416</td>\n",
       "      <td>216.400</td>\n",
       "    </tr>\n",
       "    <tr>\n",
       "      <th>York</th>\n",
       "      <td>422.058</td>\n",
       "      <td>37.896</td>\n",
       "      <td>NaN</td>\n",
       "    </tr>\n",
       "    <tr>\n",
       "      <th>Yucaipa</th>\n",
       "      <td>NaN</td>\n",
       "      <td>50.800</td>\n",
       "      <td>NaN</td>\n",
       "    </tr>\n",
       "    <tr>\n",
       "      <th>Yuma</th>\n",
       "      <td>NaN</td>\n",
       "      <td>55.352</td>\n",
       "      <td>785.513</td>\n",
       "    </tr>\n",
       "  </tbody>\n",
       "</table>\n",
       "<p>531 rows × 3 columns</p>\n",
       "</div>"
      ],
      "text/plain": [
       "category     Furniture  Office Supplies  Technology\n",
       "city                                               \n",
       "Aberdeen           NaN           25.500         NaN\n",
       "Abilene            NaN            1.392         NaN\n",
       "Akron          433.596          373.358     279.960\n",
       "Albuquerque        NaN          445.832     302.376\n",
       "Alexandria     204.640          153.780         NaN\n",
       "...                ...              ...         ...\n",
       "Woonsocket      52.960           97.230         NaN\n",
       "Yonkers        851.482           70.416     216.400\n",
       "York           422.058           37.896         NaN\n",
       "Yucaipa            NaN           50.800         NaN\n",
       "Yuma               NaN           55.352     785.513\n",
       "\n",
       "[531 rows x 3 columns]"
      ]
     },
     "execution_count": 101,
     "metadata": {},
     "output_type": "execute_result"
    }
   ],
   "source": [
    "df.pivot_table(index = 'city' , columns ='category' , values='sales' , aggfunc='sum')"
   ]
  },
  {
   "cell_type": "code",
   "execution_count": 116,
   "id": "6a3bc04d",
   "metadata": {
    "scrolled": false
   },
   "outputs": [
    {
     "data": {
      "text/html": [
       "<div>\n",
       "<style scoped>\n",
       "    .dataframe tbody tr th:only-of-type {\n",
       "        vertical-align: middle;\n",
       "    }\n",
       "\n",
       "    .dataframe tbody tr th {\n",
       "        vertical-align: top;\n",
       "    }\n",
       "\n",
       "    .dataframe thead th {\n",
       "        text-align: right;\n",
       "    }\n",
       "</style>\n",
       "<table border=\"1\" class=\"dataframe\">\n",
       "  <thead>\n",
       "    <tr style=\"text-align: right;\">\n",
       "      <th></th>\n",
       "      <th>order_id</th>\n",
       "      <th>return_reason</th>\n",
       "    </tr>\n",
       "  </thead>\n",
       "  <tbody>\n",
       "    <tr>\n",
       "      <th>0</th>\n",
       "      <td>CA-2018-100006</td>\n",
       "      <td>bad quality</td>\n",
       "    </tr>\n",
       "    <tr>\n",
       "      <th>1</th>\n",
       "      <td>CA-2018-100090</td>\n",
       "      <td>wrong product</td>\n",
       "    </tr>\n",
       "    <tr>\n",
       "      <th>2</th>\n",
       "      <td>CA-2018-100293</td>\n",
       "      <td>bad quality</td>\n",
       "    </tr>\n",
       "    <tr>\n",
       "      <th>3</th>\n",
       "      <td>CA-2018-100328</td>\n",
       "      <td>bad quality</td>\n",
       "    </tr>\n",
       "    <tr>\n",
       "      <th>4</th>\n",
       "      <td>CA-2018-100363</td>\n",
       "      <td>wrong product</td>\n",
       "    </tr>\n",
       "    <tr>\n",
       "      <th>5</th>\n",
       "      <td>CA-2018-100391</td>\n",
       "      <td>wrong product</td>\n",
       "    </tr>\n",
       "    <tr>\n",
       "      <th>6</th>\n",
       "      <td>CA-2018-100678</td>\n",
       "      <td>others</td>\n",
       "    </tr>\n",
       "    <tr>\n",
       "      <th>7</th>\n",
       "      <td>CA-2018-100706</td>\n",
       "      <td>others</td>\n",
       "    </tr>\n",
       "    <tr>\n",
       "      <th>8</th>\n",
       "      <td>CA-2018-100762</td>\n",
       "      <td>bad quality</td>\n",
       "    </tr>\n",
       "    <tr>\n",
       "      <th>9</th>\n",
       "      <td>CA-2018-100860</td>\n",
       "      <td>wrong product</td>\n",
       "    </tr>\n",
       "  </tbody>\n",
       "</table>\n",
       "</div>"
      ],
      "text/plain": [
       "         order_id  return_reason\n",
       "0  CA-2018-100006    bad quality\n",
       "1  CA-2018-100090  wrong product\n",
       "2  CA-2018-100293    bad quality\n",
       "3  CA-2018-100328    bad quality\n",
       "4  CA-2018-100363  wrong product\n",
       "5  CA-2018-100391  wrong product\n",
       "6  CA-2018-100678         others\n",
       "7  CA-2018-100706         others\n",
       "8  CA-2018-100762    bad quality\n",
       "9  CA-2018-100860  wrong product"
      ]
     },
     "execution_count": 116,
     "metadata": {},
     "output_type": "execute_result"
    }
   ],
   "source": [
    "#pip install openpyxl\n",
    "df=pd.read_excel('orders.xlsx',sheet_name=1)\n",
    "df"
   ]
  },
  {
   "cell_type": "code",
   "execution_count": 118,
   "id": "a2915086",
   "metadata": {},
   "outputs": [],
   "source": [
    "#df.to_excel('orders_2.xlsx',sheet_name='orders')\n",
    "#df.to_json('returns.json')\n",
    "df_json = pd.read_json('returns.json')"
   ]
  },
  {
   "cell_type": "code",
   "execution_count": 119,
   "id": "d6472391",
   "metadata": {},
   "outputs": [
    {
     "data": {
      "text/html": [
       "<div>\n",
       "<style scoped>\n",
       "    .dataframe tbody tr th:only-of-type {\n",
       "        vertical-align: middle;\n",
       "    }\n",
       "\n",
       "    .dataframe tbody tr th {\n",
       "        vertical-align: top;\n",
       "    }\n",
       "\n",
       "    .dataframe thead th {\n",
       "        text-align: right;\n",
       "    }\n",
       "</style>\n",
       "<table border=\"1\" class=\"dataframe\">\n",
       "  <thead>\n",
       "    <tr style=\"text-align: right;\">\n",
       "      <th></th>\n",
       "      <th>order_id</th>\n",
       "      <th>return_reason</th>\n",
       "    </tr>\n",
       "  </thead>\n",
       "  <tbody>\n",
       "    <tr>\n",
       "      <th>0</th>\n",
       "      <td>CA-2018-100006</td>\n",
       "      <td>bad quality</td>\n",
       "    </tr>\n",
       "    <tr>\n",
       "      <th>1</th>\n",
       "      <td>CA-2018-100090</td>\n",
       "      <td>wrong product</td>\n",
       "    </tr>\n",
       "    <tr>\n",
       "      <th>2</th>\n",
       "      <td>CA-2018-100293</td>\n",
       "      <td>bad quality</td>\n",
       "    </tr>\n",
       "    <tr>\n",
       "      <th>3</th>\n",
       "      <td>CA-2018-100328</td>\n",
       "      <td>bad quality</td>\n",
       "    </tr>\n",
       "    <tr>\n",
       "      <th>4</th>\n",
       "      <td>CA-2018-100363</td>\n",
       "      <td>wrong product</td>\n",
       "    </tr>\n",
       "    <tr>\n",
       "      <th>5</th>\n",
       "      <td>CA-2018-100391</td>\n",
       "      <td>wrong product</td>\n",
       "    </tr>\n",
       "    <tr>\n",
       "      <th>6</th>\n",
       "      <td>CA-2018-100678</td>\n",
       "      <td>others</td>\n",
       "    </tr>\n",
       "    <tr>\n",
       "      <th>7</th>\n",
       "      <td>CA-2018-100706</td>\n",
       "      <td>others</td>\n",
       "    </tr>\n",
       "    <tr>\n",
       "      <th>8</th>\n",
       "      <td>CA-2018-100762</td>\n",
       "      <td>bad quality</td>\n",
       "    </tr>\n",
       "    <tr>\n",
       "      <th>9</th>\n",
       "      <td>CA-2018-100860</td>\n",
       "      <td>wrong product</td>\n",
       "    </tr>\n",
       "  </tbody>\n",
       "</table>\n",
       "</div>"
      ],
      "text/plain": [
       "         order_id  return_reason\n",
       "0  CA-2018-100006    bad quality\n",
       "1  CA-2018-100090  wrong product\n",
       "2  CA-2018-100293    bad quality\n",
       "3  CA-2018-100328    bad quality\n",
       "4  CA-2018-100363  wrong product\n",
       "5  CA-2018-100391  wrong product\n",
       "6  CA-2018-100678         others\n",
       "7  CA-2018-100706         others\n",
       "8  CA-2018-100762    bad quality\n",
       "9  CA-2018-100860  wrong product"
      ]
     },
     "execution_count": 119,
     "metadata": {},
     "output_type": "execute_result"
    }
   ],
   "source": [
    "df_json"
   ]
  },
  {
   "cell_type": "code",
   "execution_count": 126,
   "id": "c6ff32e5",
   "metadata": {},
   "outputs": [
    {
     "data": {
      "text/html": [
       "<div>\n",
       "<style scoped>\n",
       "    .dataframe tbody tr th:only-of-type {\n",
       "        vertical-align: middle;\n",
       "    }\n",
       "\n",
       "    .dataframe tbody tr th {\n",
       "        vertical-align: top;\n",
       "    }\n",
       "\n",
       "    .dataframe thead th {\n",
       "        text-align: right;\n",
       "    }\n",
       "</style>\n",
       "<table border=\"1\" class=\"dataframe\">\n",
       "  <thead>\n",
       "    <tr style=\"text-align: right;\">\n",
       "      <th></th>\n",
       "      <th>order_id</th>\n",
       "      <th>return_reason</th>\n",
       "    </tr>\n",
       "  </thead>\n",
       "  <tbody>\n",
       "    <tr>\n",
       "      <th>0</th>\n",
       "      <td>CA-2018-100006</td>\n",
       "      <td>bad quality</td>\n",
       "    </tr>\n",
       "    <tr>\n",
       "      <th>1</th>\n",
       "      <td>CA-2018-100090</td>\n",
       "      <td>wrong product</td>\n",
       "    </tr>\n",
       "    <tr>\n",
       "      <th>2</th>\n",
       "      <td>CA-2018-100293</td>\n",
       "      <td>bad quality</td>\n",
       "    </tr>\n",
       "    <tr>\n",
       "      <th>3</th>\n",
       "      <td>CA-2018-100328</td>\n",
       "      <td>bad quality</td>\n",
       "    </tr>\n",
       "    <tr>\n",
       "      <th>4</th>\n",
       "      <td>CA-2018-100363</td>\n",
       "      <td>wrong product</td>\n",
       "    </tr>\n",
       "    <tr>\n",
       "      <th>5</th>\n",
       "      <td>CA-2018-100391</td>\n",
       "      <td>wrong product</td>\n",
       "    </tr>\n",
       "    <tr>\n",
       "      <th>6</th>\n",
       "      <td>CA-2018-100678</td>\n",
       "      <td>others</td>\n",
       "    </tr>\n",
       "    <tr>\n",
       "      <th>7</th>\n",
       "      <td>CA-2018-100706</td>\n",
       "      <td>others</td>\n",
       "    </tr>\n",
       "    <tr>\n",
       "      <th>8</th>\n",
       "      <td>CA-2018-100762</td>\n",
       "      <td>bad quality</td>\n",
       "    </tr>\n",
       "    <tr>\n",
       "      <th>9</th>\n",
       "      <td>CA-2018-100860</td>\n",
       "      <td>wrong product</td>\n",
       "    </tr>\n",
       "  </tbody>\n",
       "</table>\n",
       "</div>"
      ],
      "text/plain": [
       "         order_id  return_reason\n",
       "0  CA-2018-100006    bad quality\n",
       "1  CA-2018-100090  wrong product\n",
       "2  CA-2018-100293    bad quality\n",
       "3  CA-2018-100328    bad quality\n",
       "4  CA-2018-100363  wrong product\n",
       "5  CA-2018-100391  wrong product\n",
       "6  CA-2018-100678         others\n",
       "7  CA-2018-100706         others\n",
       "8  CA-2018-100762    bad quality\n",
       "9  CA-2018-100860  wrong product"
      ]
     },
     "execution_count": 126,
     "metadata": {},
     "output_type": "execute_result"
    }
   ],
   "source": [
    "import pyarrow\n",
    "#df.to_parquet('orders_p.parquet',engine='pyarrow')\n",
    "df_p=pd.read_parquet('orders_p.parquet',engine='pyarrow')\n",
    "df_p"
   ]
  }
 ],
 "metadata": {
  "kernelspec": {
   "display_name": "Python 3 (ipykernel)",
   "language": "python",
   "name": "python3"
  },
  "language_info": {
   "codemirror_mode": {
    "name": "ipython",
    "version": 3
   },
   "file_extension": ".py",
   "mimetype": "text/x-python",
   "name": "python",
   "nbconvert_exporter": "python",
   "pygments_lexer": "ipython3",
   "version": "3.11.3"
  }
 },
 "nbformat": 4,
 "nbformat_minor": 5
}
