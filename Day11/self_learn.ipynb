{
 "cells": [
  {
   "cell_type": "code",
   "execution_count": 51,
   "metadata": {},
   "outputs": [],
   "source": [
    "import pandas as pd"
   ]
  },
  {
   "cell_type": "code",
   "execution_count": 52,
   "metadata": {},
   "outputs": [
    {
     "data": {
      "text/plain": [
       "order_id          object\n",
       "order_date        object\n",
       "customer_name     object\n",
       "city              object\n",
       "category          object\n",
       "product_id        object\n",
       "sales            float64\n",
       "profit           float64\n",
       "dtype: object"
      ]
     },
     "execution_count": 52,
     "metadata": {},
     "output_type": "execute_result"
    }
   ],
   "source": [
    "# df_o = pd.read_csv('/Users/B0264653/Desktop/Namaste-Python/Day8/orders.txt',parse_dates=['order_date']) #parse_date fuctn to make date column as date\n",
    "df_o = pd.read_csv('/Users/B0264653/Desktop/Namaste-Python/Day8/orders.txt')\n",
    "df_o.dtypes # check datattypes"
   ]
  },
  {
   "cell_type": "code",
   "execution_count": 53,
   "metadata": {},
   "outputs": [
    {
     "data": {
      "text/plain": [
       "order_id                 object\n",
       "order_date       datetime64[ns]\n",
       "customer_name            object\n",
       "city                     object\n",
       "category                 object\n",
       "product_id               object\n",
       "sales                   float64\n",
       "profit                  float64\n",
       "dtype: object"
      ]
     },
     "execution_count": 53,
     "metadata": {},
     "output_type": "execute_result"
    }
   ],
   "source": [
    "df_o['order_date']=pd.to_datetime(df_o['order_date'])\n",
    "df_o.dtypes"
   ]
  },
  {
   "cell_type": "code",
   "execution_count": 6,
   "metadata": {},
   "outputs": [
    {
     "data": {
      "text/plain": [
       "DatetimeIndex(['2021-02-02', '2022-09-09', '2023-01-01'], dtype='datetime64[ns]', freq=None)"
      ]
     },
     "execution_count": 6,
     "metadata": {},
     "output_type": "execute_result"
    }
   ],
   "source": [
    "date = ['2021/02/02','2022/09/09','2023-01-01']\n",
    "pd.to_datetime(date,format='mixed')"
   ]
  },
  {
   "cell_type": "code",
   "execution_count": 7,
   "metadata": {},
   "outputs": [
    {
     "name": "stdout",
     "output_type": "stream",
     "text": [
      "2.0.1\n"
     ]
    }
   ],
   "source": [
    "print(pd.__version__)"
   ]
  },
  {
   "cell_type": "code",
   "execution_count": 8,
   "metadata": {},
   "outputs": [
    {
     "data": {
      "text/html": [
       "<div>\n",
       "<style scoped>\n",
       "    .dataframe tbody tr th:only-of-type {\n",
       "        vertical-align: middle;\n",
       "    }\n",
       "\n",
       "    .dataframe tbody tr th {\n",
       "        vertical-align: top;\n",
       "    }\n",
       "\n",
       "    .dataframe thead th {\n",
       "        text-align: right;\n",
       "    }\n",
       "</style>\n",
       "<table border=\"1\" class=\"dataframe\">\n",
       "  <thead>\n",
       "    <tr style=\"text-align: right;\">\n",
       "      <th></th>\n",
       "      <th>order_id</th>\n",
       "      <th>customer_name</th>\n",
       "      <th>city</th>\n",
       "      <th>category</th>\n",
       "      <th>product_id</th>\n",
       "      <th>sales</th>\n",
       "      <th>profit</th>\n",
       "    </tr>\n",
       "    <tr>\n",
       "      <th>order_date</th>\n",
       "      <th></th>\n",
       "      <th></th>\n",
       "      <th></th>\n",
       "      <th></th>\n",
       "      <th></th>\n",
       "      <th></th>\n",
       "      <th></th>\n",
       "    </tr>\n",
       "  </thead>\n",
       "  <tbody>\n",
       "    <tr>\n",
       "      <th>2018-01-03</th>\n",
       "      <td>CA-2018-103800</td>\n",
       "      <td>Darren Powers</td>\n",
       "      <td>Houston</td>\n",
       "      <td>Office Supplies</td>\n",
       "      <td>OFF-PA-10000174</td>\n",
       "      <td>16.448</td>\n",
       "      <td>5.5512</td>\n",
       "    </tr>\n",
       "    <tr>\n",
       "      <th>2018-01-04</th>\n",
       "      <td>CA-2018-112326</td>\n",
       "      <td>Phillina Ober</td>\n",
       "      <td>Naperville</td>\n",
       "      <td>Office Supplies</td>\n",
       "      <td>OFF-BI-10004094</td>\n",
       "      <td>3.540</td>\n",
       "      <td>-5.4870</td>\n",
       "    </tr>\n",
       "    <tr>\n",
       "      <th>2018-01-05</th>\n",
       "      <td>CA-2018-141817</td>\n",
       "      <td>Mick Brown</td>\n",
       "      <td>Philadelphia</td>\n",
       "      <td>Office Supplies</td>\n",
       "      <td>OFF-AR-10003478</td>\n",
       "      <td>19.536</td>\n",
       "      <td>4.8840</td>\n",
       "    </tr>\n",
       "    <tr>\n",
       "      <th>2018-01-06</th>\n",
       "      <td>CA-2018-130813</td>\n",
       "      <td>Lycoris Saunders</td>\n",
       "      <td>Los Angeles</td>\n",
       "      <td>Office Supplies</td>\n",
       "      <td>OFF-PA-10002005</td>\n",
       "      <td>19.440</td>\n",
       "      <td>9.3312</td>\n",
       "    </tr>\n",
       "    <tr>\n",
       "      <th>2018-01-06</th>\n",
       "      <td>CA-2018-106054</td>\n",
       "      <td>Jack O'Briant</td>\n",
       "      <td>Athens</td>\n",
       "      <td>Office Supplies</td>\n",
       "      <td>OFF-AR-10002399</td>\n",
       "      <td>12.780</td>\n",
       "      <td>5.2398</td>\n",
       "    </tr>\n",
       "    <tr>\n",
       "      <th>...</th>\n",
       "      <td>...</td>\n",
       "      <td>...</td>\n",
       "      <td>...</td>\n",
       "      <td>...</td>\n",
       "      <td>...</td>\n",
       "      <td>...</td>\n",
       "      <td>...</td>\n",
       "    </tr>\n",
       "    <tr>\n",
       "      <th>2020-12-31</th>\n",
       "      <td>US-2020-165953</td>\n",
       "      <td>Emily Phan</td>\n",
       "      <td>Jacksonville</td>\n",
       "      <td>Office Supplies</td>\n",
       "      <td>OFF-AR-10000588</td>\n",
       "      <td>47.616</td>\n",
       "      <td>3.5712</td>\n",
       "    </tr>\n",
       "    <tr>\n",
       "      <th>2021-01-01</th>\n",
       "      <td>CA-2021-154466</td>\n",
       "      <td>Dennis Pardue</td>\n",
       "      <td>Franklin</td>\n",
       "      <td>Office Supplies</td>\n",
       "      <td>OFF-BI-10002012</td>\n",
       "      <td>3.600</td>\n",
       "      <td>1.7280</td>\n",
       "    </tr>\n",
       "    <tr>\n",
       "      <th>2021-01-01</th>\n",
       "      <td>CA-2021-144463</td>\n",
       "      <td>Steven Cartwright</td>\n",
       "      <td>Los Angeles</td>\n",
       "      <td>Furniture</td>\n",
       "      <td>FUR-FU-10001215</td>\n",
       "      <td>474.430</td>\n",
       "      <td>199.2606</td>\n",
       "    </tr>\n",
       "    <tr>\n",
       "      <th>2021-01-01</th>\n",
       "      <td>CA-2021-151750</td>\n",
       "      <td>Janet Martin</td>\n",
       "      <td>Huntsville</td>\n",
       "      <td>Furniture</td>\n",
       "      <td>FUR-CH-10003199</td>\n",
       "      <td>310.744</td>\n",
       "      <td>-26.6352</td>\n",
       "    </tr>\n",
       "    <tr>\n",
       "      <th>2021-01-01</th>\n",
       "      <td>CA-2021-107503</td>\n",
       "      <td>Guy Armstrong</td>\n",
       "      <td>Lorain</td>\n",
       "      <td>Furniture</td>\n",
       "      <td>FUR-FU-10003878</td>\n",
       "      <td>48.896</td>\n",
       "      <td>8.5568</td>\n",
       "    </tr>\n",
       "  </tbody>\n",
       "</table>\n",
       "<p>3326 rows × 7 columns</p>\n",
       "</div>"
      ],
      "text/plain": [
       "                  order_id      customer_name          city         category   \n",
       "order_date                                                                     \n",
       "2018-01-03  CA-2018-103800      Darren Powers       Houston  Office Supplies  \\\n",
       "2018-01-04  CA-2018-112326      Phillina Ober    Naperville  Office Supplies   \n",
       "2018-01-05  CA-2018-141817         Mick Brown  Philadelphia  Office Supplies   \n",
       "2018-01-06  CA-2018-130813   Lycoris Saunders   Los Angeles  Office Supplies   \n",
       "2018-01-06  CA-2018-106054      Jack O'Briant        Athens  Office Supplies   \n",
       "...                    ...                ...           ...              ...   \n",
       "2020-12-31  US-2020-165953         Emily Phan  Jacksonville  Office Supplies   \n",
       "2021-01-01  CA-2021-154466      Dennis Pardue      Franklin  Office Supplies   \n",
       "2021-01-01  CA-2021-144463  Steven Cartwright   Los Angeles        Furniture   \n",
       "2021-01-01  CA-2021-151750       Janet Martin    Huntsville        Furniture   \n",
       "2021-01-01  CA-2021-107503      Guy Armstrong        Lorain        Furniture   \n",
       "\n",
       "                 product_id    sales    profit  \n",
       "order_date                                      \n",
       "2018-01-03  OFF-PA-10000174   16.448    5.5512  \n",
       "2018-01-04  OFF-BI-10004094    3.540   -5.4870  \n",
       "2018-01-05  OFF-AR-10003478   19.536    4.8840  \n",
       "2018-01-06  OFF-PA-10002005   19.440    9.3312  \n",
       "2018-01-06  OFF-AR-10002399   12.780    5.2398  \n",
       "...                     ...      ...       ...  \n",
       "2020-12-31  OFF-AR-10000588   47.616    3.5712  \n",
       "2021-01-01  OFF-BI-10002012    3.600    1.7280  \n",
       "2021-01-01  FUR-FU-10001215  474.430  199.2606  \n",
       "2021-01-01  FUR-CH-10003199  310.744  -26.6352  \n",
       "2021-01-01  FUR-FU-10003878   48.896    8.5568  \n",
       "\n",
       "[3326 rows x 7 columns]"
      ]
     },
     "execution_count": 8,
     "metadata": {},
     "output_type": "execute_result"
    }
   ],
   "source": [
    "df_o = pd.read_csv('/Users/B0264653/Desktop/Namaste-Python/Day8/orders.txt',parse_dates=['order_date'],index_col='order_date')\n",
    "df_o.sort_index(inplace=True)\n",
    "df_o.loc['2021,2018']\n",
    "df_o.loc['2018-01-01':'2021-01-01']"
   ]
  },
  {
   "cell_type": "code",
   "execution_count": 65,
   "metadata": {},
   "outputs": [],
   "source": [
    "df_o.reset_index(inplace=True)"
   ]
  },
  {
   "cell_type": "code",
   "execution_count": 67,
   "metadata": {},
   "outputs": [
    {
     "data": {
      "text/plain": [
       "index                     int64\n",
       "order_date       datetime64[ns]\n",
       "order_id                 object\n",
       "customer_name            object\n",
       "city                     object\n",
       "category                 object\n",
       "product_id               object\n",
       "sales                   float64\n",
       "profit                  float64\n",
       "dtype: object"
      ]
     },
     "execution_count": 67,
     "metadata": {},
     "output_type": "execute_result"
    }
   ],
   "source": [
    "df_o.dtypes"
   ]
  },
  {
   "cell_type": "code",
   "execution_count": 11,
   "metadata": {},
   "outputs": [
    {
     "data": {
      "text/plain": [
       "0       2018\n",
       "1       2018\n",
       "2       2018\n",
       "3       2018\n",
       "4       2018\n",
       "        ... \n",
       "5004    2021\n",
       "5005    2021\n",
       "5006    2021\n",
       "5007    2021\n",
       "5008    2021\n",
       "Name: order_date, Length: 5009, dtype: int32"
      ]
     },
     "execution_count": 11,
     "metadata": {},
     "output_type": "execute_result"
    }
   ],
   "source": [
    "df_o['order_date'].dt.year  # fetch year from date"
   ]
  },
  {
   "cell_type": "code",
   "execution_count": 15,
   "metadata": {},
   "outputs": [
    {
     "data": {
      "text/plain": [
       "0        1\n",
       "1        1\n",
       "2        1\n",
       "3        1\n",
       "4        1\n",
       "        ..\n",
       "5004    12\n",
       "5005    12\n",
       "5006    12\n",
       "5007    12\n",
       "5008    12\n",
       "Name: order_date, Length: 5009, dtype: int32"
      ]
     },
     "execution_count": 15,
     "metadata": {},
     "output_type": "execute_result"
    }
   ],
   "source": [
    "df_o['order_date'].dt.month"
   ]
  },
  {
   "cell_type": "code",
   "execution_count": 68,
   "metadata": {},
   "outputs": [
    {
     "data": {
      "text/plain": [
       "0          Friday\n",
       "1          Sunday\n",
       "2       Wednesday\n",
       "3          Sunday\n",
       "4          Sunday\n",
       "          ...    \n",
       "5004    Wednesday\n",
       "5005       Friday\n",
       "5006      Tuesday\n",
       "5007     Saturday\n",
       "5008    Wednesday\n",
       "Name: order_date, Length: 5009, dtype: object"
      ]
     },
     "execution_count": 68,
     "metadata": {},
     "output_type": "execute_result"
    }
   ],
   "source": [
    "df_o['order_date'].dt.day_name()"
   ]
  },
  {
   "cell_type": "code",
   "execution_count": 57,
   "metadata": {},
   "outputs": [],
   "source": [
    "# pip install matplotlib\n",
    "%matplotlib inline"
   ]
  },
  {
   "cell_type": "code",
   "execution_count": 65,
   "metadata": {},
   "outputs": [
    {
     "data": {
      "text/plain": [
       "<Axes: xlabel='category'>"
      ]
     },
     "execution_count": 65,
     "metadata": {},
     "output_type": "execute_result"
    },
    {
     "data": {
      "image/png": "[encoded data removed]",
      "text/plain": [
       "<Figure size 640x480 with 1 Axes>"
      ]
     },
     "metadata": {},
     "output_type": "display_data"
    }
   ],
   "source": [
    "df_o.plot('category','sales')"
   ]
  },
  {
   "cell_type": "code",
   "execution_count": 69,
   "metadata": {},
   "outputs": [
    {
     "data": {
      "text/plain": [
       "<Axes: >"
      ]
     },
     "execution_count": 69,
     "metadata": {},
     "output_type": "execute_result"
    },
    {
     "data": {
      "image/png": "[encoded data removed]",
      "text/plain": [
       "<Figure size 640x480 with 1 Axes>"
      ]
     },
     "metadata": {},
     "output_type": "display_data"
    }
   ],
   "source": [
    "df_o['sales'].plot(kind='bar')"
   ]
  },
  {
   "cell_type": "code",
   "execution_count": 13,
   "metadata": {},
   "outputs": [
    {
     "data": {
      "image/png": "[encoded data removed]",
      "text/plain": [
       "<Figure size 640x480 with 1 Axes>"
      ]
     },
     "metadata": {},
     "output_type": "display_data"
    }
   ],
   "source": [
    "df_g1 = df_o.groupby('category')['sales'].sum().plot()"
   ]
  },
  {
   "cell_type": "code",
   "execution_count": 71,
   "metadata": {},
   "outputs": [],
   "source": [
    "df_o = pd.read_csv('/Users/B0264653/Desktop/Namaste-Python/Day8/orders.txt')\n",
    "df_o.dtypes\n",
    "df_o['order_date']=pd.to_datetime(df_o['order_date'])\n",
    "df_o.dtypes\n",
    "df_o.set_index('order_date', inplace=True)"
   ]
  },
  {
   "cell_type": "code",
   "execution_count": 72,
   "metadata": {},
   "outputs": [
    {
     "data": {
      "text/plain": [
       "dtype('<M8[ns]')"
      ]
     },
     "execution_count": 72,
     "metadata": {},
     "output_type": "execute_result"
    }
   ],
   "source": [
    "df_o.index.dtype"
   ]
  },
  {
   "cell_type": "code",
   "execution_count": 75,
   "metadata": {},
   "outputs": [
    {
     "data": {
      "text/plain": [
       "<Axes: xlabel='order_date'>"
      ]
     },
     "execution_count": 75,
     "metadata": {},
     "output_type": "execute_result"
    },
    {
     "data": {
      "image/png": "[encoded data removed]",
      "text/plain": [
       "<Figure size 640x480 with 1 Axes>"
      ]
     },
     "metadata": {},
     "output_type": "display_data"
    }
   ],
   "source": [
    "df_o['sales'].resample('Y').mean().plot()"
   ]
  },
  {
   "cell_type": "code",
   "execution_count": 76,
   "metadata": {},
   "outputs": [
    {
     "data": {
      "text/plain": [
       "<Axes: xlabel='order_date'>"
      ]
     },
     "execution_count": 76,
     "metadata": {},
     "output_type": "execute_result"
    },
    {
     "data": {
      "image/png": "[encoded data removed]",
      "text/plain": [
       "<Figure size 640x480 with 1 Axes>"
      ]
     },
     "metadata": {},
     "output_type": "display_data"
    }
   ],
   "source": [
    "df_o['sales'].resample('Y').max().plot()"
   ]
  },
  {
   "cell_type": "code",
   "execution_count": 78,
   "metadata": {},
   "outputs": [
    {
     "data": {
      "text/plain": [
       "<Axes: xlabel='order_date'>"
      ]
     },
     "execution_count": 78,
     "metadata": {},
     "output_type": "execute_result"
    },
    {
     "data": {
      "image/png": "[encoded data removed]",
      "text/plain": [
       "<Figure size 640x480 with 1 Axes>"
      ]
     },
     "metadata": {},
     "output_type": "display_data"
    }
   ],
   "source": [
    "df_o['sales'].resample('M').min().plot()"
   ]
  },
  {
   "cell_type": "code",
   "execution_count": 80,
   "metadata": {},
   "outputs": [
    {
     "data": {
      "text/plain": [
       "order_id          object\n",
       "customer_name     object\n",
       "city              object\n",
       "category          object\n",
       "product_id        object\n",
       "sales            float64\n",
       "profit           float64\n",
       "dtype: object"
      ]
     },
     "execution_count": 80,
     "metadata": {},
     "output_type": "execute_result"
    }
   ],
   "source": [
    "df_o.dtypes"
   ]
  },
  {
   "cell_type": "code",
   "execution_count": 82,
   "metadata": {},
   "outputs": [
    {
     "data": {
      "text/plain": [
       "order_date\n",
       "2018-09-07    377\n",
       "2018-07-08    502\n",
       "2018-03-14     91\n",
       "2018-01-28      3\n",
       "2018-04-08      2\n",
       "             ... \n",
       "2021-11-03     18\n",
       "2021-07-23     11\n",
       "2021-09-07     39\n",
       "2021-08-28     91\n",
       "2021-07-07     87\n",
       "Name: sales, Length: 5009, dtype: int64"
      ]
     },
     "execution_count": 82,
     "metadata": {},
     "output_type": "execute_result"
    }
   ],
   "source": [
    "df_o['sales'].astype('int') #astype change datatyp"
   ]
  },
  {
   "cell_type": "code",
   "execution_count": 85,
   "metadata": {},
   "outputs": [],
   "source": [
    "data =[10,None,30,40.3,45]\n",
    "column =['numbers']\n",
    "df = pd.DataFrame(data=data, columns=column)"
   ]
  },
  {
   "cell_type": "code",
   "execution_count": 86,
   "metadata": {},
   "outputs": [
    {
     "data": {
      "text/html": [
       "<div>\n",
       "<style scoped>\n",
       "    .dataframe tbody tr th:only-of-type {\n",
       "        vertical-align: middle;\n",
       "    }\n",
       "\n",
       "    .dataframe tbody tr th {\n",
       "        vertical-align: top;\n",
       "    }\n",
       "\n",
       "    .dataframe thead th {\n",
       "        text-align: right;\n",
       "    }\n",
       "</style>\n",
       "<table border=\"1\" class=\"dataframe\">\n",
       "  <thead>\n",
       "    <tr style=\"text-align: right;\">\n",
       "      <th></th>\n",
       "      <th>numbers</th>\n",
       "    </tr>\n",
       "  </thead>\n",
       "  <tbody>\n",
       "    <tr>\n",
       "      <th>0</th>\n",
       "      <td>10.0</td>\n",
       "    </tr>\n",
       "    <tr>\n",
       "      <th>1</th>\n",
       "      <td>NaN</td>\n",
       "    </tr>\n",
       "    <tr>\n",
       "      <th>2</th>\n",
       "      <td>30.0</td>\n",
       "    </tr>\n",
       "    <tr>\n",
       "      <th>3</th>\n",
       "      <td>40.3</td>\n",
       "    </tr>\n",
       "    <tr>\n",
       "      <th>4</th>\n",
       "      <td>45.0</td>\n",
       "    </tr>\n",
       "  </tbody>\n",
       "</table>\n",
       "</div>"
      ],
      "text/plain": [
       "   numbers\n",
       "0     10.0\n",
       "1      NaN\n",
       "2     30.0\n",
       "3     40.3\n",
       "4     45.0"
      ]
     },
     "execution_count": 86,
     "metadata": {},
     "output_type": "execute_result"
    }
   ],
   "source": [
    "df"
   ]
  },
  {
   "cell_type": "code",
   "execution_count": 87,
   "metadata": {},
   "outputs": [
    {
     "data": {
      "text/plain": [
       "numbers    float64\n",
       "dtype: object"
      ]
     },
     "execution_count": 87,
     "metadata": {},
     "output_type": "execute_result"
    }
   ],
   "source": [
    "df.dtypes"
   ]
  },
  {
   "cell_type": "code",
   "execution_count": 91,
   "metadata": {},
   "outputs": [],
   "source": [
    "df_new = df.fillna(0)"
   ]
  },
  {
   "cell_type": "code",
   "execution_count": 92,
   "metadata": {},
   "outputs": [
    {
     "data": {
      "text/plain": [
       "0    10\n",
       "1     0\n",
       "2    30\n",
       "3    40\n",
       "4    45\n",
       "Name: numbers, dtype: int64"
      ]
     },
     "execution_count": 92,
     "metadata": {},
     "output_type": "execute_result"
    }
   ],
   "source": [
    "df_new['numbers'].astype('int') # cannot cast directly due to null values"
   ]
  },
  {
   "cell_type": "code",
   "execution_count": 93,
   "metadata": {},
   "outputs": [
    {
     "data": {
      "text/html": [
       "<div>\n",
       "<style scoped>\n",
       "    .dataframe tbody tr th:only-of-type {\n",
       "        vertical-align: middle;\n",
       "    }\n",
       "\n",
       "    .dataframe tbody tr th {\n",
       "        vertical-align: top;\n",
       "    }\n",
       "\n",
       "    .dataframe thead th {\n",
       "        text-align: right;\n",
       "    }\n",
       "</style>\n",
       "<table border=\"1\" class=\"dataframe\">\n",
       "  <thead>\n",
       "    <tr style=\"text-align: right;\">\n",
       "      <th></th>\n",
       "      <th>order_id</th>\n",
       "      <th>customer_name</th>\n",
       "      <th>city</th>\n",
       "      <th>category</th>\n",
       "      <th>product_id</th>\n",
       "      <th>sales</th>\n",
       "      <th>profit</th>\n",
       "    </tr>\n",
       "    <tr>\n",
       "      <th>order_date</th>\n",
       "      <th></th>\n",
       "      <th></th>\n",
       "      <th></th>\n",
       "      <th></th>\n",
       "      <th></th>\n",
       "      <th></th>\n",
       "      <th></th>\n",
       "    </tr>\n",
       "  </thead>\n",
       "  <tbody>\n",
       "    <tr>\n",
       "      <th>2018-09-07</th>\n",
       "      <td>CA-2018-100006</td>\n",
       "      <td>Dennis Kane</td>\n",
       "      <td>New York City</td>\n",
       "      <td>Technology</td>\n",
       "      <td>TEC-PH-10002075</td>\n",
       "      <td>377.970</td>\n",
       "      <td>109.6113</td>\n",
       "    </tr>\n",
       "    <tr>\n",
       "      <th>2018-07-08</th>\n",
       "      <td>CA-2018-100090</td>\n",
       "      <td>Ed Braxton</td>\n",
       "      <td>San Francisco</td>\n",
       "      <td>Furniture</td>\n",
       "      <td>FUR-TA-10003715</td>\n",
       "      <td>502.488</td>\n",
       "      <td>-87.9354</td>\n",
       "    </tr>\n",
       "    <tr>\n",
       "      <th>2018-03-14</th>\n",
       "      <td>CA-2018-100293</td>\n",
       "      <td>Neil Französisch</td>\n",
       "      <td>Jacksonville</td>\n",
       "      <td>Office Supplies</td>\n",
       "      <td>OFF-PA-10000176</td>\n",
       "      <td>91.056</td>\n",
       "      <td>31.8696</td>\n",
       "    </tr>\n",
       "    <tr>\n",
       "      <th>2018-01-28</th>\n",
       "      <td>CA-2018-100328</td>\n",
       "      <td>Jasper Cacioppo</td>\n",
       "      <td>New York City</td>\n",
       "      <td>Office Supplies</td>\n",
       "      <td>OFF-BI-10000343</td>\n",
       "      <td>3.928</td>\n",
       "      <td>1.3257</td>\n",
       "    </tr>\n",
       "    <tr>\n",
       "      <th>2018-04-08</th>\n",
       "      <td>CA-2018-100363</td>\n",
       "      <td>Jim Mitchum</td>\n",
       "      <td>Glendale</td>\n",
       "      <td>Office Supplies</td>\n",
       "      <td>OFF-FA-10000611</td>\n",
       "      <td>2.368</td>\n",
       "      <td>0.8288</td>\n",
       "    </tr>\n",
       "    <tr>\n",
       "      <th>...</th>\n",
       "      <td>...</td>\n",
       "      <td>...</td>\n",
       "      <td>...</td>\n",
       "      <td>...</td>\n",
       "      <td>...</td>\n",
       "      <td>...</td>\n",
       "      <td>...</td>\n",
       "    </tr>\n",
       "    <tr>\n",
       "      <th>2021-11-03</th>\n",
       "      <td>US-2021-168802</td>\n",
       "      <td>Jack O'Briant</td>\n",
       "      <td>Seattle</td>\n",
       "      <td>Office Supplies</td>\n",
       "      <td>OFF-BI-10002393</td>\n",
       "      <td>18.368</td>\n",
       "      <td>5.9696</td>\n",
       "    </tr>\n",
       "    <tr>\n",
       "      <th>2021-07-23</th>\n",
       "      <td>US-2021-169320</td>\n",
       "      <td>Lena Hernandez</td>\n",
       "      <td>Elkhart</td>\n",
       "      <td>Office Supplies</td>\n",
       "      <td>OFF-AR-10003602</td>\n",
       "      <td>11.680</td>\n",
       "      <td>5.4896</td>\n",
       "    </tr>\n",
       "    <tr>\n",
       "      <th>2021-09-07</th>\n",
       "      <td>US-2021-169488</td>\n",
       "      <td>Allen Armold</td>\n",
       "      <td>Providence</td>\n",
       "      <td>Office Supplies</td>\n",
       "      <td>OFF-PA-10000157</td>\n",
       "      <td>39.960</td>\n",
       "      <td>18.7812</td>\n",
       "    </tr>\n",
       "    <tr>\n",
       "      <th>2021-08-28</th>\n",
       "      <td>US-2021-169502</td>\n",
       "      <td>Matthew Grinstein</td>\n",
       "      <td>Milwaukee</td>\n",
       "      <td>Office Supplies</td>\n",
       "      <td>OFF-AP-10001947</td>\n",
       "      <td>91.600</td>\n",
       "      <td>26.5640</td>\n",
       "    </tr>\n",
       "    <tr>\n",
       "      <th>2021-07-07</th>\n",
       "      <td>US-2021-169551</td>\n",
       "      <td>Rob Lucas</td>\n",
       "      <td>Philadelphia</td>\n",
       "      <td>Furniture</td>\n",
       "      <td>FUR-BO-10001519</td>\n",
       "      <td>87.210</td>\n",
       "      <td>-45.3492</td>\n",
       "    </tr>\n",
       "  </tbody>\n",
       "</table>\n",
       "<p>5009 rows × 7 columns</p>\n",
       "</div>"
      ],
      "text/plain": [
       "                  order_id      customer_name           city         category   \n",
       "order_date                                                                      \n",
       "2018-09-07  CA-2018-100006        Dennis Kane  New York City       Technology  \\\n",
       "2018-07-08  CA-2018-100090         Ed Braxton  San Francisco        Furniture   \n",
       "2018-03-14  CA-2018-100293   Neil Französisch   Jacksonville  Office Supplies   \n",
       "2018-01-28  CA-2018-100328    Jasper Cacioppo  New York City  Office Supplies   \n",
       "2018-04-08  CA-2018-100363        Jim Mitchum       Glendale  Office Supplies   \n",
       "...                    ...                ...            ...              ...   \n",
       "2021-11-03  US-2021-168802      Jack O'Briant        Seattle  Office Supplies   \n",
       "2021-07-23  US-2021-169320     Lena Hernandez        Elkhart  Office Supplies   \n",
       "2021-09-07  US-2021-169488       Allen Armold     Providence  Office Supplies   \n",
       "2021-08-28  US-2021-169502  Matthew Grinstein      Milwaukee  Office Supplies   \n",
       "2021-07-07  US-2021-169551          Rob Lucas   Philadelphia        Furniture   \n",
       "\n",
       "                 product_id    sales    profit  \n",
       "order_date                                      \n",
       "2018-09-07  TEC-PH-10002075  377.970  109.6113  \n",
       "2018-07-08  FUR-TA-10003715  502.488  -87.9354  \n",
       "2018-03-14  OFF-PA-10000176   91.056   31.8696  \n",
       "2018-01-28  OFF-BI-10000343    3.928    1.3257  \n",
       "2018-04-08  OFF-FA-10000611    2.368    0.8288  \n",
       "...                     ...      ...       ...  \n",
       "2021-11-03  OFF-BI-10002393   18.368    5.9696  \n",
       "2021-07-23  OFF-AR-10003602   11.680    5.4896  \n",
       "2021-09-07  OFF-PA-10000157   39.960   18.7812  \n",
       "2021-08-28  OFF-AP-10001947   91.600   26.5640  \n",
       "2021-07-07  FUR-BO-10001519   87.210  -45.3492  \n",
       "\n",
       "[5009 rows x 7 columns]"
      ]
     },
     "execution_count": 93,
     "metadata": {},
     "output_type": "execute_result"
    }
   ],
   "source": [
    "df_o"
   ]
  },
  {
   "cell_type": "markdown",
   "metadata": {},
   "source": [
    "###PIVOT\n"
   ]
  },
  {
   "cell_type": "code",
   "execution_count": 96,
   "metadata": {},
   "outputs": [
    {
     "data": {
      "text/html": [
       "<div>\n",
       "<style scoped>\n",
       "    .dataframe tbody tr th:only-of-type {\n",
       "        vertical-align: middle;\n",
       "    }\n",
       "\n",
       "    .dataframe tbody tr th {\n",
       "        vertical-align: top;\n",
       "    }\n",
       "\n",
       "    .dataframe thead th {\n",
       "        text-align: right;\n",
       "    }\n",
       "</style>\n",
       "<table border=\"1\" class=\"dataframe\">\n",
       "  <thead>\n",
       "    <tr style=\"text-align: right;\">\n",
       "      <th>category</th>\n",
       "      <th>Furniture</th>\n",
       "      <th>Office Supplies</th>\n",
       "      <th>Technology</th>\n",
       "    </tr>\n",
       "    <tr>\n",
       "      <th>city</th>\n",
       "      <th></th>\n",
       "      <th></th>\n",
       "      <th></th>\n",
       "    </tr>\n",
       "  </thead>\n",
       "  <tbody>\n",
       "    <tr>\n",
       "      <th>Aberdeen</th>\n",
       "      <td>NaN</td>\n",
       "      <td>25.500</td>\n",
       "      <td>NaN</td>\n",
       "    </tr>\n",
       "    <tr>\n",
       "      <th>Abilene</th>\n",
       "      <td>NaN</td>\n",
       "      <td>1.392</td>\n",
       "      <td>NaN</td>\n",
       "    </tr>\n",
       "    <tr>\n",
       "      <th>Akron</th>\n",
       "      <td>433.596</td>\n",
       "      <td>373.358</td>\n",
       "      <td>279.960</td>\n",
       "    </tr>\n",
       "    <tr>\n",
       "      <th>Albuquerque</th>\n",
       "      <td>NaN</td>\n",
       "      <td>445.832</td>\n",
       "      <td>302.376</td>\n",
       "    </tr>\n",
       "    <tr>\n",
       "      <th>Alexandria</th>\n",
       "      <td>204.640</td>\n",
       "      <td>153.780</td>\n",
       "      <td>NaN</td>\n",
       "    </tr>\n",
       "    <tr>\n",
       "      <th>...</th>\n",
       "      <td>...</td>\n",
       "      <td>...</td>\n",
       "      <td>...</td>\n",
       "    </tr>\n",
       "    <tr>\n",
       "      <th>Woonsocket</th>\n",
       "      <td>52.960</td>\n",
       "      <td>97.230</td>\n",
       "      <td>NaN</td>\n",
       "    </tr>\n",
       "    <tr>\n",
       "      <th>Yonkers</th>\n",
       "      <td>851.482</td>\n",
       "      <td>70.416</td>\n",
       "      <td>216.400</td>\n",
       "    </tr>\n",
       "    <tr>\n",
       "      <th>York</th>\n",
       "      <td>422.058</td>\n",
       "      <td>37.896</td>\n",
       "      <td>NaN</td>\n",
       "    </tr>\n",
       "    <tr>\n",
       "      <th>Yucaipa</th>\n",
       "      <td>NaN</td>\n",
       "      <td>50.800</td>\n",
       "      <td>NaN</td>\n",
       "    </tr>\n",
       "    <tr>\n",
       "      <th>Yuma</th>\n",
       "      <td>NaN</td>\n",
       "      <td>55.352</td>\n",
       "      <td>785.513</td>\n",
       "    </tr>\n",
       "  </tbody>\n",
       "</table>\n",
       "<p>531 rows × 3 columns</p>\n",
       "</div>"
      ],
      "text/plain": [
       "category     Furniture  Office Supplies  Technology\n",
       "city                                               \n",
       "Aberdeen           NaN           25.500         NaN\n",
       "Abilene            NaN            1.392         NaN\n",
       "Akron          433.596          373.358     279.960\n",
       "Albuquerque        NaN          445.832     302.376\n",
       "Alexandria     204.640          153.780         NaN\n",
       "...                ...              ...         ...\n",
       "Woonsocket      52.960           97.230         NaN\n",
       "Yonkers        851.482           70.416     216.400\n",
       "York           422.058           37.896         NaN\n",
       "Yucaipa            NaN           50.800         NaN\n",
       "Yuma               NaN           55.352     785.513\n",
       "\n",
       "[531 rows x 3 columns]"
      ]
     },
     "execution_count": 96,
     "metadata": {},
     "output_type": "execute_result"
    }
   ],
   "source": [
    "df_o.pivot_table(index='city',columns='category',values='sales',aggfunc='sum')"
   ]
  },
  {
   "cell_type": "code",
   "execution_count": null,
   "metadata": {},
   "outputs": [],
   "source": [
    "#read excel\n",
    "\n",
    "df_1 = pd.read_excel('',sheet_name='sheet1')\n",
    "df_1"
   ]
  },
  {
   "cell_type": "code",
   "execution_count": null,
   "metadata": {},
   "outputs": [],
   "source": []
  },
  {
   "cell_type": "code",
   "execution_count": null,
   "metadata": {},
   "outputs": [],
   "source": []
  },
  {
   "cell_type": "code",
   "execution_count": null,
   "metadata": {},
   "outputs": [],
   "source": []
  },
  {
   "cell_type": "code",
   "execution_count": null,
   "metadata": {},
   "outputs": [],
   "source": []
  },
  {
   "cell_type": "code",
   "execution_count": null,
   "metadata": {},
   "outputs": [],
   "source": []
  },
  {
   "cell_type": "markdown",
   "metadata": {},
   "source": []
  }
 ],
 "metadata": {
  "kernelspec": {
   "display_name": "Python 3",
   "language": "python",
   "name": "python3"
  },
  "language_info": {
   "codemirror_mode": {
    "name": "ipython",
    "version": 3
   },
   "file_extension": ".py",
   "mimetype": "text/x-python",
   "name": "python",
   "nbconvert_exporter": "python",
   "pygments_lexer": "ipython3",
   "version": "3.9.12"
  },
  "orig_nbformat": 4
 },
 "nbformat": 4,
 "nbformat_minor": 2
}
