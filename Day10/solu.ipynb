{
 "cells": [
  {
   "cell_type": "code",
   "execution_count": 3,
   "metadata": {},
   "outputs": [],
   "source": [
    "import pandas as pd\n"
   ]
  },
  {
   "cell_type": "code",
   "execution_count": 39,
   "metadata": {},
   "outputs": [
    {
     "data": {
      "text/plain": [
       "category\n",
       "Furniture          582901.5289\n",
       "Office Supplies    284516.2270\n",
       "Technology         174630.6580\n",
       "Name: sales, dtype: float64"
      ]
     },
     "execution_count": 39,
     "metadata": {},
     "output_type": "execute_result"
    }
   ],
   "source": [
    "# note : use the orders and returns dataset \n",
    "\n",
    "# 1- write a program to get category wise sales of orders that were not returned\n",
    "\n",
    "df_o = pd.read_csv('/Users/B0264653/Desktop/Namaste-Python/Day8/orders.txt')\n",
    "df_r = pd.read_csv('/Users/B0264653/Desktop/Namaste-Python/Day10/returns.txt')\n",
    "df_1 = pd.merge(left=df_o, right=df_r, left_on='order_id', right_on='order_id', how='left')\n",
    "merged_data = df_1[df_1['Return Reason'].isnull()]\n",
    "merged_data.groupby(['category'])['sales'].sum()\n"
   ]
  },
  {
   "cell_type": "code",
   "execution_count": 44,
   "metadata": {},
   "outputs": [
    {
     "name": "stdout",
     "output_type": "stream",
     "text": [
      "city            order_id        order_date  customer_name    category         product_id       sales     profit     Return Reason\n",
      "Albuquerque     CA-2018-152345  2018-12-29  Shui Tom         Office Supplies  OFF-ST-10003123  33.290     7.9896    Bad Quality      1\n",
      "Amarillo        CA-2019-139731  2019-10-15  Joel Eaton       Furniture        FUR-CH-10002024  2453.430  -350.4900  Wrong Items      1\n",
      "Anaheim         CA-2020-165330  2020-12-11  William Brown    Furniture        FUR-CH-10003774  363.920   -31.8430   Wrong Items      1\n",
      "Apple Valley    CA-2021-142342  2021-07-17  Anthony Johnson  Furniture        FUR-BO-10002613  1194.165   210.7350  Wrong Items      1\n",
      "Atlanta         CA-2021-159954  2021-09-10  Shahid Shariari  Office Supplies  OFF-BI-10004876  2.780      1.3622    Wrong Items      1\n",
      "                                                                                                                                    ..\n",
      "Vallejo         CA-2020-115917  2020-05-20  Rick Bensley     Furniture        FUR-FU-10000576  1049.200   272.7920  Wrong Items      1\n",
      "Virginia Beach  CA-2020-157280  2020-11-05  Liz Willingham   Furniture        FUR-FU-10003806  756.800    75.6800   Wrong Items      1\n",
      "West Jordan     CA-2019-123568  2019-11-08  Sanjit Chand     Furniture        FUR-FU-10004090  66.690     22.0077   Bad Quality      1\n",
      "Wilmington      CA-2021-166142  2021-07-15  Magdelene Morse  Furniture        FUR-TA-10004607  310.443   -48.7839   Wrong Items      1\n",
      "York            US-2020-152051  2020-06-25  Theresa Swint    Furniture        FUR-CH-10002965  422.058   -18.0882   Wrong Items      1\n",
      "Name: count, Length: 291, dtype: int64\n"
     ]
    }
   ],
   "source": [
    "# 2- write a program to get city wise count of return orders\n",
    "\n",
    "df_o = pd.read_csv('/Users/B0264653/Desktop/Namaste-Python/Day8/orders.txt')\n",
    "df_r = pd.read_csv('/Users/B0264653/Desktop/Namaste-Python/Day10/returns.txt')\n",
    "df_1 = pd.merge(left=df_o, right=df_r, left_on='order_id', right_on='order_id', how='inner')\n",
    "city_return_count = df_1.groupby(['city']).value_counts()\n",
    "print(city_return_count)"
   ]
  },
  {
   "cell_type": "code",
   "execution_count": 52,
   "metadata": {},
   "outputs": [
    {
     "data": {
      "text/plain": [
       "city\n",
       "Los Angeles      3\n",
       "New York City    3\n",
       "Name: Return Reason, dtype: int64"
      ]
     },
     "execution_count": 52,
     "metadata": {},
     "output_type": "execute_result"
    }
   ],
   "source": [
    "# 3- write a program to print cities where we have all \n",
    "# 3 kinds of returns (others,bad quality,wrong items)\n",
    "\n",
    "df_o = pd.read_csv('/Users/B0264653/Desktop/Namaste-Python/Day8/orders.txt')\n",
    "df_r = pd.read_csv('/Users/B0264653/Desktop/Namaste-Python/Day10/returns.txt')\n",
    "df_1 = pd.merge(left=df_o, right=df_r, left_on='order_id', right_on='order_id', how='inner')\n",
    "city_return_ucounts = df_1.groupby('city')['Return Reason'].nunique()\n",
    "city_return_ucounts[city_return_ucounts.values > 2]\n",
    "\n"
   ]
  },
  {
   "cell_type": "code",
   "execution_count": 58,
   "metadata": {},
   "outputs": [
    {
     "data": {
      "text/plain": [
       "city\n",
       "Aberdeen      0\n",
       "Abilene       0\n",
       "Akron         0\n",
       "Alexandria    0\n",
       "Allen         0\n",
       "             ..\n",
       "Woodstock     0\n",
       "Woonsocket    0\n",
       "Yonkers       0\n",
       "Yucaipa       0\n",
       "Yuma          0\n",
       "Name: Return Reason, Length: 412, dtype: int64"
      ]
     },
     "execution_count": 58,
     "metadata": {},
     "output_type": "execute_result"
    }
   ],
   "source": [
    "# 4- write a program to find cities where not even a single order was returned.\n",
    "\n",
    "df_o = pd.read_csv('/Users/B0264653/Desktop/Namaste-Python/Day8/orders.txt')\n",
    "df_r = pd.read_csv('/Users/B0264653/Desktop/Namaste-Python/Day10/returns.txt')\n",
    "df_1 = pd.merge(left=df_o, right=df_r, left_on='order_id', right_on='order_id', how='left')\n",
    "df_2 = df_1.groupby(['city'])['Return Reason'].count()\n",
    "df_2[df_2.values==0]"
   ]
  },
  {
   "cell_type": "code",
   "execution_count": 63,
   "metadata": {},
   "outputs": [
    {
     "data": {
      "text/plain": [
       "city\n",
       "New York City    115073.919\n",
       "Los Angeles       79663.299\n",
       "San Francisco     52590.648\n",
       "Name: sales, dtype: float64"
      ]
     },
     "execution_count": 63,
     "metadata": {},
     "output_type": "execute_result"
    }
   ],
   "source": [
    "# 5- write a program to find top 3 cities by sales\n",
    "\n",
    "df_o = pd.read_csv('/Users/B0264653/Desktop/Namaste-Python/Day8/orders.txt')\n",
    "df_o.groupby(['city'])['sales'].sum().sort_values(ascending=False).head(3)\n"
   ]
  },
  {
   "cell_type": "code",
   "execution_count": 66,
   "metadata": {},
   "outputs": [
    {
     "data": {
      "text/html": [
       "<div>\n",
       "<style scoped>\n",
       "    .dataframe tbody tr th:only-of-type {\n",
       "        vertical-align: middle;\n",
       "    }\n",
       "\n",
       "    .dataframe tbody tr th {\n",
       "        vertical-align: top;\n",
       "    }\n",
       "\n",
       "    .dataframe thead th {\n",
       "        text-align: right;\n",
       "    }\n",
       "</style>\n",
       "<table border=\"1\" class=\"dataframe\">\n",
       "  <thead>\n",
       "    <tr style=\"text-align: right;\">\n",
       "      <th></th>\n",
       "      <th>order_id</th>\n",
       "      <th>order_date</th>\n",
       "      <th>customer_name</th>\n",
       "      <th>city</th>\n",
       "      <th>category</th>\n",
       "      <th>product_id</th>\n",
       "      <th>sales</th>\n",
       "      <th>profit</th>\n",
       "      <th>Return Reason</th>\n",
       "    </tr>\n",
       "  </thead>\n",
       "  <tbody>\n",
       "    <tr>\n",
       "      <th>0</th>\n",
       "      <td>CA-2018-100006</td>\n",
       "      <td>2018-09-07</td>\n",
       "      <td>Dennis Kane</td>\n",
       "      <td>New York City</td>\n",
       "      <td>Technology</td>\n",
       "      <td>TEC-PH-10002075</td>\n",
       "      <td>377.970</td>\n",
       "      <td>109.6113</td>\n",
       "      <td>NaN</td>\n",
       "    </tr>\n",
       "    <tr>\n",
       "      <th>1</th>\n",
       "      <td>CA-2018-100090</td>\n",
       "      <td>2018-07-08</td>\n",
       "      <td>Ed Braxton</td>\n",
       "      <td>San Francisco</td>\n",
       "      <td>Furniture</td>\n",
       "      <td>FUR-TA-10003715</td>\n",
       "      <td>502.488</td>\n",
       "      <td>-87.9354</td>\n",
       "      <td>NaN</td>\n",
       "    </tr>\n",
       "    <tr>\n",
       "      <th>2</th>\n",
       "      <td>CA-2018-100293</td>\n",
       "      <td>2018-03-14</td>\n",
       "      <td>Neil Französisch</td>\n",
       "      <td>Jacksonville</td>\n",
       "      <td>Office Supplies</td>\n",
       "      <td>OFF-PA-10000176</td>\n",
       "      <td>91.056</td>\n",
       "      <td>31.8696</td>\n",
       "      <td>NaN</td>\n",
       "    </tr>\n",
       "    <tr>\n",
       "      <th>3</th>\n",
       "      <td>CA-2018-100328</td>\n",
       "      <td>2018-01-28</td>\n",
       "      <td>Jasper Cacioppo</td>\n",
       "      <td>New York City</td>\n",
       "      <td>Office Supplies</td>\n",
       "      <td>OFF-BI-10000343</td>\n",
       "      <td>3.928</td>\n",
       "      <td>1.3257</td>\n",
       "      <td>NaN</td>\n",
       "    </tr>\n",
       "    <tr>\n",
       "      <th>4</th>\n",
       "      <td>CA-2018-100363</td>\n",
       "      <td>2018-04-08</td>\n",
       "      <td>Jim Mitchum</td>\n",
       "      <td>Glendale</td>\n",
       "      <td>Office Supplies</td>\n",
       "      <td>OFF-FA-10000611</td>\n",
       "      <td>2.368</td>\n",
       "      <td>0.8288</td>\n",
       "      <td>NaN</td>\n",
       "    </tr>\n",
       "    <tr>\n",
       "      <th>...</th>\n",
       "      <td>...</td>\n",
       "      <td>...</td>\n",
       "      <td>...</td>\n",
       "      <td>...</td>\n",
       "      <td>...</td>\n",
       "      <td>...</td>\n",
       "      <td>...</td>\n",
       "      <td>...</td>\n",
       "      <td>...</td>\n",
       "    </tr>\n",
       "    <tr>\n",
       "      <th>5004</th>\n",
       "      <td>US-2021-168802</td>\n",
       "      <td>2021-11-03</td>\n",
       "      <td>Jack O'Briant</td>\n",
       "      <td>Seattle</td>\n",
       "      <td>Office Supplies</td>\n",
       "      <td>OFF-BI-10002393</td>\n",
       "      <td>18.368</td>\n",
       "      <td>5.9696</td>\n",
       "      <td>NaN</td>\n",
       "    </tr>\n",
       "    <tr>\n",
       "      <th>5005</th>\n",
       "      <td>US-2021-169320</td>\n",
       "      <td>2021-07-23</td>\n",
       "      <td>Lena Hernandez</td>\n",
       "      <td>Elkhart</td>\n",
       "      <td>Office Supplies</td>\n",
       "      <td>OFF-AR-10003602</td>\n",
       "      <td>11.680</td>\n",
       "      <td>5.4896</td>\n",
       "      <td>NaN</td>\n",
       "    </tr>\n",
       "    <tr>\n",
       "      <th>5006</th>\n",
       "      <td>US-2021-169488</td>\n",
       "      <td>2021-09-07</td>\n",
       "      <td>Allen Armold</td>\n",
       "      <td>Providence</td>\n",
       "      <td>Office Supplies</td>\n",
       "      <td>OFF-PA-10000157</td>\n",
       "      <td>39.960</td>\n",
       "      <td>18.7812</td>\n",
       "      <td>NaN</td>\n",
       "    </tr>\n",
       "    <tr>\n",
       "      <th>5007</th>\n",
       "      <td>US-2021-169502</td>\n",
       "      <td>2021-08-28</td>\n",
       "      <td>Matthew Grinstein</td>\n",
       "      <td>Milwaukee</td>\n",
       "      <td>Office Supplies</td>\n",
       "      <td>OFF-AP-10001947</td>\n",
       "      <td>91.600</td>\n",
       "      <td>26.5640</td>\n",
       "      <td>NaN</td>\n",
       "    </tr>\n",
       "    <tr>\n",
       "      <th>5008</th>\n",
       "      <td>US-2021-169551</td>\n",
       "      <td>2021-07-07</td>\n",
       "      <td>Rob Lucas</td>\n",
       "      <td>Philadelphia</td>\n",
       "      <td>Furniture</td>\n",
       "      <td>FUR-BO-10001519</td>\n",
       "      <td>87.210</td>\n",
       "      <td>-45.3492</td>\n",
       "      <td>NaN</td>\n",
       "    </tr>\n",
       "  </tbody>\n",
       "</table>\n",
       "<p>4718 rows × 9 columns</p>\n",
       "</div>"
      ],
      "text/plain": [
       "            order_id  order_date      customer_name           city   \n",
       "0     CA-2018-100006  2018-09-07        Dennis Kane  New York City  \\\n",
       "1     CA-2018-100090  2018-07-08         Ed Braxton  San Francisco   \n",
       "2     CA-2018-100293  2018-03-14   Neil Französisch   Jacksonville   \n",
       "3     CA-2018-100328  2018-01-28    Jasper Cacioppo  New York City   \n",
       "4     CA-2018-100363  2018-04-08        Jim Mitchum       Glendale   \n",
       "...              ...         ...                ...            ...   \n",
       "5004  US-2021-168802  2021-11-03      Jack O'Briant        Seattle   \n",
       "5005  US-2021-169320  2021-07-23     Lena Hernandez        Elkhart   \n",
       "5006  US-2021-169488  2021-09-07       Allen Armold     Providence   \n",
       "5007  US-2021-169502  2021-08-28  Matthew Grinstein      Milwaukee   \n",
       "5008  US-2021-169551  2021-07-07          Rob Lucas   Philadelphia   \n",
       "\n",
       "             category       product_id    sales    profit Return Reason  \n",
       "0          Technology  TEC-PH-10002075  377.970  109.6113           NaN  \n",
       "1           Furniture  FUR-TA-10003715  502.488  -87.9354           NaN  \n",
       "2     Office Supplies  OFF-PA-10000176   91.056   31.8696           NaN  \n",
       "3     Office Supplies  OFF-BI-10000343    3.928    1.3257           NaN  \n",
       "4     Office Supplies  OFF-FA-10000611    2.368    0.8288           NaN  \n",
       "...               ...              ...      ...       ...           ...  \n",
       "5004  Office Supplies  OFF-BI-10002393   18.368    5.9696           NaN  \n",
       "5005  Office Supplies  OFF-AR-10003602   11.680    5.4896           NaN  \n",
       "5006  Office Supplies  OFF-PA-10000157   39.960   18.7812           NaN  \n",
       "5007  Office Supplies  OFF-AP-10001947   91.600   26.5640           NaN  \n",
       "5008        Furniture  FUR-BO-10001519   87.210  -45.3492           NaN  \n",
       "\n",
       "[4718 rows x 9 columns]"
      ]
     },
     "execution_count": 66,
     "metadata": {},
     "output_type": "execute_result"
    }
   ],
   "source": [
    "# 6- write a program to get order ids whos return reason is not known (nan)\n",
    "df_o = pd.read_csv('/Users/B0264653/Desktop/Namaste-Python/Day8/orders.txt')\n",
    "df_r = pd.read_csv('/Users/B0264653/Desktop/Namaste-Python/Day10/returns.txt')\n",
    "df_1 = pd.merge(left=df_o, right=df_r, left_on='order_id', right_on='order_id', how='left')\n",
    "df_1[df_1['Return Reason'].isna()]\n"
   ]
  },
  {
   "cell_type": "code",
   "execution_count": 68,
   "metadata": {},
   "outputs": [
    {
     "data": {
      "text/plain": [
       "0       others\n",
       "1       others\n",
       "2       others\n",
       "3       others\n",
       "4       others\n",
       "         ...  \n",
       "5004    others\n",
       "5005    others\n",
       "5006    others\n",
       "5007    others\n",
       "5008    others\n",
       "Name: Return Reason, Length: 5009, dtype: object"
      ]
     },
     "execution_count": 68,
     "metadata": {},
     "output_type": "execute_result"
    }
   ],
   "source": [
    "# 7- write a program to fill unknown return reason to a default value 'others'\n",
    "df_o = pd.read_csv('/Users/B0264653/Desktop/Namaste-Python/Day8/orders.txt')\n",
    "df_r = pd.read_csv('/Users/B0264653/Desktop/Namaste-Python/Day10/returns.txt')\n",
    "df_1 = pd.merge(left=df_o, right=df_r, left_on='order_id', right_on='order_id', how='left')\n",
    "df_1['Return Reason'].fillna('others')\n",
    "\n",
    "\n"
   ]
  },
  {
   "cell_type": "code",
   "execution_count": 73,
   "metadata": {},
   "outputs": [
    {
     "data": {
      "text/html": [
       "<div>\n",
       "<style scoped>\n",
       "    .dataframe tbody tr th:only-of-type {\n",
       "        vertical-align: middle;\n",
       "    }\n",
       "\n",
       "    .dataframe tbody tr th {\n",
       "        vertical-align: top;\n",
       "    }\n",
       "\n",
       "    .dataframe thead th {\n",
       "        text-align: right;\n",
       "    }\n",
       "</style>\n",
       "<table border=\"1\" class=\"dataframe\">\n",
       "  <thead>\n",
       "    <tr style=\"text-align: right;\">\n",
       "      <th></th>\n",
       "      <th>sales</th>\n",
       "      <th>profit</th>\n",
       "    </tr>\n",
       "    <tr>\n",
       "      <th>category</th>\n",
       "      <th></th>\n",
       "      <th></th>\n",
       "    </tr>\n",
       "  </thead>\n",
       "  <tbody>\n",
       "    <tr>\n",
       "      <th>Furniture</th>\n",
       "      <td>356.212758</td>\n",
       "      <td>9.813403</td>\n",
       "    </tr>\n",
       "    <tr>\n",
       "      <th>Office Supplies</th>\n",
       "      <td>107.680040</td>\n",
       "      <td>18.906134</td>\n",
       "    </tr>\n",
       "    <tr>\n",
       "      <th>Technology</th>\n",
       "      <td>382.705186</td>\n",
       "      <td>75.452770</td>\n",
       "    </tr>\n",
       "  </tbody>\n",
       "</table>\n",
       "</div>"
      ],
      "text/plain": [
       "                      sales     profit\n",
       "category                              \n",
       "Furniture        356.212758   9.813403\n",
       "Office Supplies  107.680040  18.906134\n",
       "Technology       382.705186  75.452770"
      ]
     },
     "execution_count": 73,
     "metadata": {},
     "output_type": "execute_result"
    }
   ],
   "source": [
    "# 8- write a program to find avg sales and avg profit for each category\n",
    "df_o = pd.read_csv('/Users/B0264653/Desktop/Namaste-Python/Day8/orders.txt')\n",
    "df_o.groupby(['category']).agg({'sales':'mean','profit':'mean'})\n",
    "\n"
   ]
  },
  {
   "cell_type": "code",
   "execution_count": null,
   "metadata": {},
   "outputs": [],
   "source": []
  },
  {
   "cell_type": "code",
   "execution_count": null,
   "metadata": {},
   "outputs": [],
   "source": []
  },
  {
   "cell_type": "code",
   "execution_count": null,
   "metadata": {},
   "outputs": [],
   "source": []
  },
  {
   "cell_type": "code",
   "execution_count": null,
   "metadata": {},
   "outputs": [],
   "source": []
  },
  {
   "cell_type": "code",
   "execution_count": null,
   "metadata": {},
   "outputs": [],
   "source": []
  },
  {
   "cell_type": "code",
   "execution_count": null,
   "metadata": {},
   "outputs": [],
   "source": []
  },
  {
   "cell_type": "code",
   "execution_count": null,
   "metadata": {},
   "outputs": [],
   "source": []
  },
  {
   "cell_type": "code",
   "execution_count": null,
   "metadata": {},
   "outputs": [],
   "source": []
  },
  {
   "cell_type": "code",
   "execution_count": null,
   "metadata": {},
   "outputs": [],
   "source": []
  },
  {
   "cell_type": "code",
   "execution_count": null,
   "metadata": {},
   "outputs": [],
   "source": []
  },
  {
   "cell_type": "code",
   "execution_count": null,
   "metadata": {},
   "outputs": [],
   "source": []
  },
  {
   "cell_type": "code",
   "execution_count": null,
   "metadata": {},
   "outputs": [],
   "source": []
  },
  {
   "cell_type": "code",
   "execution_count": null,
   "metadata": {},
   "outputs": [],
   "source": []
  },
  {
   "cell_type": "code",
   "execution_count": null,
   "metadata": {},
   "outputs": [],
   "source": []
  },
  {
   "cell_type": "code",
   "execution_count": null,
   "metadata": {},
   "outputs": [],
   "source": []
  },
  {
   "cell_type": "code",
   "execution_count": null,
   "metadata": {},
   "outputs": [],
   "source": []
  },
  {
   "cell_type": "code",
   "execution_count": null,
   "metadata": {},
   "outputs": [],
   "source": []
  },
  {
   "cell_type": "code",
   "execution_count": null,
   "metadata": {},
   "outputs": [],
   "source": []
  }
 ],
 "metadata": {
  "kernelspec": {
   "display_name": "Python 3",
   "language": "python",
   "name": "python3"
  },
  "language_info": {
   "codemirror_mode": {
    "name": "ipython",
    "version": 3
   },
   "file_extension": ".py",
   "mimetype": "text/x-python",
   "name": "python",
   "nbconvert_exporter": "python",
   "pygments_lexer": "ipython3",
   "version": "3.9.12"
  },
  "orig_nbformat": 4
 },
 "nbformat": 4,
 "nbformat_minor": 2
}
