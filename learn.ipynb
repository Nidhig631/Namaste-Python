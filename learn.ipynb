{
 "cells": [
  {
   "cell_type": "code",
   "execution_count": 2,
   "metadata": {},
   "outputs": [],
   "source": [
    "from pyspark.sql.types import StructType, StructField, FloatType, BooleanType, DateType, TimestampType\n",
    "from pyspark.sql.types import DoubleType, IntegerType, StringType\n",
    "import pyspark\n",
    "from pyspark import SQLContext\n",
    "from pyspark.sql import SparkSession\n",
    "spark = SparkSession.builder.master(\"local[1]\").appName(\"SparkByExamples.com\").getOrCreate()\n",
    "conf = pyspark.SparkConf()\n",
    "spark_context = SparkSession.builder.config(conf=conf).getOrCreate()\n"
   ]
  },
  {
   "attachments": {},
   "cell_type": "markdown",
   "metadata": {},
   "source": [
    "# USE OF UNION WHEN HAVE DIFFERENT NUMBER OF COLUMNS"
   ]
  },
  {
   "cell_type": "code",
   "execution_count": 5,
   "metadata": {},
   "outputs": [],
   "source": [
    "data1=[\n",
    "(1 , '2016-08-29', 1 , 2, 3),\n",
    "(2 , '2016-08-29', 1 , 2, 3),\n",
    "(3 , '2016-08-29', 1 , 2, 3)]\n",
    "df1 = spark.createDataFrame(data1, ['code' , 'date' , 'A' , 'B', 'C'])\n",
    "data2=[\n",
    "(5 , '2016-08-29', 1, 2, 3, 4),\n",
    "(6 , '2016-08-29', 1, 2, 3, 4),\n",
    "(7 , '2016-08-29', 1, 2, 3, 4)]\n",
    "df2 = spark.createDataFrame(data2, ['code' , 'date' , 'B', 'C', 'D', 'E'])"
   ]
  },
  {
   "cell_type": "code",
   "execution_count": 7,
   "metadata": {},
   "outputs": [
    {
     "name": "stderr",
     "output_type": "stream",
     "text": [
      "[Stage 0:>                                                          (0 + 1) / 1]\r"
     ]
    },
    {
     "name": "stdout",
     "output_type": "stream",
     "text": [
      "+----+----------+---+---+---+\n",
      "|code|      date|  A|  B|  C|\n",
      "+----+----------+---+---+---+\n",
      "|   1|2016-08-29|  1|  2|  3|\n",
      "|   2|2016-08-29|  1|  2|  3|\n",
      "|   3|2016-08-29|  1|  2|  3|\n",
      "+----+----------+---+---+---+\n",
      "\n"
     ]
    },
    {
     "name": "stderr",
     "output_type": "stream",
     "text": [
      "                                                                                \r"
     ]
    }
   ],
   "source": [
    "df1.show()"
   ]
  },
  {
   "cell_type": "code",
   "execution_count": 8,
   "metadata": {},
   "outputs": [
    {
     "name": "stdout",
     "output_type": "stream",
     "text": [
      "+----+----------+---+---+---+---+\n",
      "|code|      date|  B|  C|  D|  E|\n",
      "+----+----------+---+---+---+---+\n",
      "|   5|2016-08-29|  1|  2|  3|  4|\n",
      "|   6|2016-08-29|  1|  2|  3|  4|\n",
      "|   7|2016-08-29|  1|  2|  3|  4|\n",
      "+----+----------+---+---+---+---+\n",
      "\n"
     ]
    }
   ],
   "source": [
    "df2.show()"
   ]
  },
  {
   "cell_type": "code",
   "execution_count": 14,
   "metadata": {},
   "outputs": [],
   "source": [
    "df3 = df1.unionByName(df2, allowMissingColumns=True)"
   ]
  },
  {
   "cell_type": "code",
   "execution_count": 15,
   "metadata": {},
   "outputs": [
    {
     "name": "stdout",
     "output_type": "stream",
     "text": [
      "+----+----------+----+---+---+----+----+\n",
      "|code|      date|   A|  B|  C|   D|   E|\n",
      "+----+----------+----+---+---+----+----+\n",
      "|   1|2016-08-29|   1|  2|  3|null|null|\n",
      "|   2|2016-08-29|   1|  2|  3|null|null|\n",
      "|   3|2016-08-29|   1|  2|  3|null|null|\n",
      "|   5|2016-08-29|null|  1|  2|   3|   4|\n",
      "|   6|2016-08-29|null|  1|  2|   3|   4|\n",
      "|   7|2016-08-29|null|  1|  2|   3|   4|\n",
      "+----+----------+----+---+---+----+----+\n",
      "\n"
     ]
    }
   ],
   "source": [
    "df3.show()"
   ]
  },
  {
   "attachments": {},
   "cell_type": "markdown",
   "metadata": {},
   "source": [
    "# USE OF EXPECT/MINUS IN PYSPARK"
   ]
  },
  {
   "cell_type": "code",
   "execution_count": 18,
   "metadata": {},
   "outputs": [
    {
     "name": "stdout",
     "output_type": "stream",
     "text": [
      "+---+----+----+----+\n",
      "| id|col1|col2|col3|\n",
      "+---+----+----+----+\n",
      "|  4|   z|   z|   z|\n",
      "+---+----+----+----+\n",
      "\n"
     ]
    }
   ],
   "source": [
    "d1 = [(1,'x','x','x'),(3,'y','y','y')]\n",
    "d2 = [(1,'x','x','x'),(3,'y','y','y'),(4,'z','z','z')]\n",
    "df4 = spark.createDataFrame(d1,['id','col1','col2','col3'])\n",
    "df5 = spark.createDataFrame(d2,['id','col1','col2','col3'])\n",
    "df6 = df5.exceptAll(df4)\n",
    "df6.show()"
   ]
  },
  {
   "cell_type": "code",
   "execution_count": null,
   "metadata": {},
   "outputs": [],
   "source": []
  }
 ],
 "metadata": {
  "kernelspec": {
   "display_name": "Python 3",
   "language": "python",
   "name": "python3"
  },
  "language_info": {
   "codemirror_mode": {
    "name": "ipython",
    "version": 3
   },
   "file_extension": ".py",
   "mimetype": "text/x-python",
   "name": "python",
   "nbconvert_exporter": "python",
   "pygments_lexer": "ipython3",
   "version": "3.9.12"
  },
  "orig_nbformat": 4
 },
 "nbformat": 4,
 "nbformat_minor": 2
}
