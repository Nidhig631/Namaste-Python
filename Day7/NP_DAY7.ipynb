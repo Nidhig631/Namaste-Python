{
 "cells": [
  {
   "cell_type": "markdown",
   "id": "71b120a5",
   "metadata": {},
   "source": [
    "## Python Numpy Tutorial "
   ]
  },
  {
   "cell_type": "code",
   "execution_count": 7,
   "id": "c8cf939b",
   "metadata": {},
   "outputs": [],
   "source": [
    "import numpy as np"
   ]
  },
  {
   "cell_type": "code",
   "execution_count": 12,
   "id": "bb96664f",
   "metadata": {},
   "outputs": [
    {
     "data": {
      "text/plain": [
       "dtype('float64')"
      ]
     },
     "execution_count": 12,
     "metadata": {},
     "output_type": "execute_result"
    }
   ],
   "source": [
    "\n",
    "a = [1,2.1,3]\n",
    "a_array = np.array(a)\n",
    "a_array.dtype"
   ]
  },
  {
   "cell_type": "code",
   "execution_count": 13,
   "id": "9f8beacf",
   "metadata": {},
   "outputs": [
    {
     "name": "stdout",
     "output_type": "stream",
     "text": [
      "[1.  2.1 3. ]\n"
     ]
    }
   ],
   "source": [
    "print(a_array)"
   ]
  },
  {
   "cell_type": "code",
   "execution_count": 14,
   "id": "4b8767ca",
   "metadata": {},
   "outputs": [
    {
     "data": {
      "text/plain": [
       "1"
      ]
     },
     "execution_count": 14,
     "metadata": {},
     "output_type": "execute_result"
    }
   ],
   "source": [
    "a_array.ndim"
   ]
  },
  {
   "cell_type": "code",
   "execution_count": 17,
   "id": "8a6f490f",
   "metadata": {},
   "outputs": [
    {
     "data": {
      "text/plain": [
       "array([[1, 2, 3],\n",
       "       [4, 5, 6]])"
      ]
     },
     "execution_count": 17,
     "metadata": {},
     "output_type": "execute_result"
    }
   ],
   "source": [
    "a = [[1,2,3],[4,5,6]]\n",
    "a_array = np.array(a)\n",
    "a_array"
   ]
  },
  {
   "cell_type": "code",
   "execution_count": 18,
   "id": "58240a77",
   "metadata": {},
   "outputs": [
    {
     "data": {
      "text/plain": [
       "(2, 3)"
      ]
     },
     "execution_count": 18,
     "metadata": {},
     "output_type": "execute_result"
    }
   ],
   "source": [
    "a_array.shape"
   ]
  },
  {
   "cell_type": "code",
   "execution_count": 22,
   "id": "abd6e60f",
   "metadata": {},
   "outputs": [
    {
     "data": {
      "text/plain": [
       "dtype('int32')"
      ]
     },
     "execution_count": 22,
     "metadata": {},
     "output_type": "execute_result"
    }
   ],
   "source": [
    "a = [[1,True,3],[4,5,6]]\n",
    "a_array = np.array(a)\n",
    "a_array.dtype"
   ]
  },
  {
   "cell_type": "code",
   "execution_count": 24,
   "id": "6184ddc2",
   "metadata": {},
   "outputs": [
    {
     "data": {
      "text/plain": [
       "(2, 3)"
      ]
     },
     "execution_count": 24,
     "metadata": {},
     "output_type": "execute_result"
    }
   ],
   "source": [
    "a_array.shape"
   ]
  },
  {
   "cell_type": "code",
   "execution_count": 33,
   "id": "c3464e0f",
   "metadata": {},
   "outputs": [
    {
     "data": {
      "text/plain": [
       "array([[1, 2, 3],\n",
       "       [4, 5, 6],\n",
       "       [7, 8, 9]])"
      ]
     },
     "execution_count": 33,
     "metadata": {},
     "output_type": "execute_result"
    }
   ],
   "source": [
    "a = [[1,2,3],[4,5,6],[7,8,9]]\n",
    "a_array = np.array(a)\n",
    "a_array.size\n",
    "a_array"
   ]
  },
  {
   "cell_type": "code",
   "execution_count": 37,
   "id": "8ef671db",
   "metadata": {},
   "outputs": [
    {
     "data": {
      "text/plain": [
       "array([[2, 3],\n",
       "       [5, 6]])"
      ]
     },
     "execution_count": 37,
     "metadata": {},
     "output_type": "execute_result"
    }
   ],
   "source": [
    "#access elements in array a_array [r,c]\n",
    "a_array[2,2]\n",
    "a_array[2,-1]\n",
    "a_array[2,:]\n",
    "a_array[:,1]\n",
    "a_array[0:2,1:3]"
   ]
  },
  {
   "cell_type": "code",
   "execution_count": 42,
   "id": "fa3802ee",
   "metadata": {
    "scrolled": true
   },
   "outputs": [
    {
     "data": {
      "text/plain": [
       "array([[ 1,  9, 10],\n",
       "       [ 4,  8,  6],\n",
       "       [ 7,  8, 11]])"
      ]
     },
     "execution_count": 42,
     "metadata": {},
     "output_type": "execute_result"
    }
   ],
   "source": [
    "#assign a value/ change a value\n",
    "a_array[2,2]=11\n",
    "a_array\n",
    "a_array[0:2,1:3]=[[9,10],[8,6]]\n",
    "a_array"
   ]
  },
  {
   "cell_type": "code",
   "execution_count": 55,
   "id": "eaea63e4",
   "metadata": {},
   "outputs": [
    {
     "data": {
      "text/plain": [
       "array([[[1, 2],\n",
       "        [3, 4]],\n",
       "\n",
       "       [[5, 6],\n",
       "        [7, 8]]])"
      ]
     },
     "execution_count": 55,
     "metadata": {},
     "output_type": "execute_result"
    }
   ],
   "source": [
    "a = [[[1,2],[3,4]],[[5,6],[7,8]]]\n",
    "a_array = np.array(a,dtype='int32')\n",
    "a_array.shape\n",
    "a_array"
   ]
  },
  {
   "cell_type": "code",
   "execution_count": 49,
   "id": "52a84d73",
   "metadata": {},
   "outputs": [
    {
     "data": {
      "text/plain": [
       "7"
      ]
     },
     "execution_count": 49,
     "metadata": {},
     "output_type": "execute_result"
    }
   ],
   "source": [
    "a_array[1,1,0]"
   ]
  },
  {
   "cell_type": "code",
   "execution_count": 63,
   "id": "5d18b1a9",
   "metadata": {},
   "outputs": [
    {
     "data": {
      "text/plain": [
       "array([[[10, 10, 10, 10],\n",
       "        [10, 10, 10, 10],\n",
       "        [10, 10, 10, 10]],\n",
       "\n",
       "       [[10, 10, 10, 10],\n",
       "        [10, 10, 10, 10],\n",
       "        [10, 10, 10, 10]]])"
      ]
     },
     "execution_count": 63,
     "metadata": {},
     "output_type": "execute_result"
    }
   ],
   "source": [
    "#initiliaze arrays\n",
    "a_array=np.zeros(5,dtype='int64')\n",
    "a_array=np.zeros((2,3),dtype='int32')\n",
    "a_array=np.ones((2,3),dtype='int32')\n",
    "a_array=np.full((2,3),10)\n",
    "a_array=np.full((2,3,4),10,dtype='int32')\n",
    "a_array"
   ]
  },
  {
   "cell_type": "code",
   "execution_count": 64,
   "id": "fb9e9360",
   "metadata": {},
   "outputs": [
    {
     "data": {
      "text/plain": [
       "array([[0.52204998, 0.63655264, 0.20102219],\n",
       "       [0.38585286, 0.93493162, 0.70204709]])"
      ]
     },
     "execution_count": 64,
     "metadata": {},
     "output_type": "execute_result"
    }
   ],
   "source": [
    "#array of decimal randon values\n",
    "a_array= np.random.rand(2,3)\n",
    "a_array"
   ]
  },
  {
   "cell_type": "code",
   "execution_count": 68,
   "id": "b342f4d7",
   "metadata": {},
   "outputs": [
    {
     "data": {
      "text/plain": [
       "array([[1, 0, 0, 0, 0],\n",
       "       [0, 1, 0, 0, 0],\n",
       "       [0, 0, 1, 0, 0],\n",
       "       [0, 0, 0, 1, 0],\n",
       "       [0, 0, 0, 0, 1]])"
      ]
     },
     "execution_count": 68,
     "metadata": {},
     "output_type": "execute_result"
    }
   ],
   "source": [
    "#array of identity matrics\n",
    "a_array= np.identity(5,dtype='int32')\n",
    "a_array"
   ]
  },
  {
   "cell_type": "code",
   "execution_count": 74,
   "id": "7ccd0bdb",
   "metadata": {},
   "outputs": [],
   "source": [
    "a_array= np.identity(3,dtype='int32')\n",
    "a_array1=a_array.copy()\n",
    "a_array1[0,0]=9"
   ]
  },
  {
   "cell_type": "code",
   "execution_count": 76,
   "id": "e1ae3227",
   "metadata": {},
   "outputs": [
    {
     "data": {
      "text/plain": [
       "array([[9, 0, 0],\n",
       "       [0, 1, 0],\n",
       "       [0, 0, 1]])"
      ]
     },
     "execution_count": 76,
     "metadata": {},
     "output_type": "execute_result"
    }
   ],
   "source": [
    "a_array1"
   ]
  },
  {
   "cell_type": "code",
   "execution_count": 86,
   "id": "544e9222",
   "metadata": {},
   "outputs": [
    {
     "data": {
      "text/plain": [
       "array([[1, 0, 0],\n",
       "       [0, 1, 0],\n",
       "       [0, 0, 1]])"
      ]
     },
     "execution_count": 86,
     "metadata": {},
     "output_type": "execute_result"
    }
   ],
   "source": [
    "#mathmatics\n",
    "a_array= np.identity(3,dtype='int32')\n",
    "a_array"
   ]
  },
  {
   "cell_type": "code",
   "execution_count": 88,
   "id": "c5dd51e1",
   "metadata": {},
   "outputs": [
    {
     "data": {
      "text/plain": [
       "array([[4, 0, 0],\n",
       "       [0, 4, 0],\n",
       "       [0, 0, 4]])"
      ]
     },
     "execution_count": 88,
     "metadata": {},
     "output_type": "execute_result"
    }
   ],
   "source": [
    "a_array+2\n",
    "a_array*2"
   ]
  },
  {
   "cell_type": "code",
   "execution_count": 97,
   "id": "1204c9a4",
   "metadata": {},
   "outputs": [
    {
     "name": "stdout",
     "output_type": "stream",
     "text": [
      "[[9 9 9]\n",
      " [9 9 9]]\n",
      "[[5 5 5]\n",
      " [5 5 5]]\n"
     ]
    },
    {
     "data": {
      "text/plain": [
       "array([[45, 45, 45],\n",
       "       [45, 45, 45]])"
      ]
     },
     "execution_count": 97,
     "metadata": {},
     "output_type": "execute_result"
    }
   ],
   "source": [
    "a_array1= np.full((2,3),9,dtype='int32')\n",
    "a_array2= np.full((2,3),5,dtype='int32')\n",
    "print(a_array1)\n",
    "print(a_array2)\n",
    "a_array1*a_array2"
   ]
  },
  {
   "cell_type": "code",
   "execution_count": 99,
   "id": "9d4d2825",
   "metadata": {},
   "outputs": [
    {
     "data": {
      "text/plain": [
       "array([[0.54030231, 1.        , 1.        ],\n",
       "       [1.        , 0.54030231, 1.        ],\n",
       "       [1.        , 1.        , 0.54030231]])"
      ]
     },
     "execution_count": 99,
     "metadata": {},
     "output_type": "execute_result"
    }
   ],
   "source": [
    "#trignomatry\n",
    "a_array= np.identity(3,dtype='int32')\n",
    "np.cos(a_array)"
   ]
  },
  {
   "cell_type": "code",
   "execution_count": 100,
   "id": "28aeff98",
   "metadata": {},
   "outputs": [
    {
     "data": {
      "text/plain": [
       "array([[1, 0, 0],\n",
       "       [0, 1, 0],\n",
       "       [0, 0, 1]])"
      ]
     },
     "execution_count": 100,
     "metadata": {},
     "output_type": "execute_result"
    }
   ],
   "source": [
    "a_array"
   ]
  },
  {
   "cell_type": "code",
   "execution_count": 101,
   "id": "8d4e98da",
   "metadata": {},
   "outputs": [
    {
     "data": {
      "text/plain": [
       "array([[1, 2, 3],\n",
       "       [4, 5, 6],\n",
       "       [7, 8, 9]])"
      ]
     },
     "execution_count": 101,
     "metadata": {},
     "output_type": "execute_result"
    }
   ],
   "source": [
    "#statistics\n",
    "a = [[1,2,3],[4,5,6],[7,8,9]]\n",
    "a_array = np.array(a)\n",
    "a_array"
   ]
  },
  {
   "cell_type": "code",
   "execution_count": 109,
   "id": "cfe877f0",
   "metadata": {},
   "outputs": [
    {
     "data": {
      "text/plain": [
       "array([ 6, 15, 24])"
      ]
     },
     "execution_count": 109,
     "metadata": {},
     "output_type": "execute_result"
    }
   ],
   "source": [
    "np.min(a_array)\n",
    "np.min(a_array,axis=0)\n",
    "np.min(a_array,axis=1)\n",
    "np.sum(a_array,axis=1)"
   ]
  },
  {
   "cell_type": "code",
   "execution_count": 119,
   "id": "59e3dd2b",
   "metadata": {},
   "outputs": [
    {
     "data": {
      "text/plain": [
       "array([[1, 2],\n",
       "       [3, 4],\n",
       "       [5, 6]])"
      ]
     },
     "execution_count": 119,
     "metadata": {},
     "output_type": "execute_result"
    }
   ],
   "source": [
    "#rearrgrage\n",
    "a = [[1,2,3],[4,5,6]]\n",
    "a_array = np.array(a)\n",
    "a_array.reshape((3,2))"
   ]
  },
  {
   "cell_type": "code",
   "execution_count": 120,
   "id": "799172d3",
   "metadata": {},
   "outputs": [
    {
     "name": "stdout",
     "output_type": "stream",
     "text": [
      "[[9 9 9]\n",
      " [9 9 9]]\n",
      "[[5 5 5]\n",
      " [5 5 5]]\n"
     ]
    }
   ],
   "source": [
    "a_array1= np.full((2,3),9,dtype='int32')\n",
    "a_array2= np.full((2,3),5,dtype='int32')\n",
    "print(a_array1)\n",
    "print(a_array2)"
   ]
  },
  {
   "cell_type": "code",
   "execution_count": 122,
   "id": "cab4281d",
   "metadata": {},
   "outputs": [
    {
     "data": {
      "text/plain": [
       "array([[9, 9, 9, 5, 5, 5],\n",
       "       [9, 9, 9, 5, 5, 5]])"
      ]
     },
     "execution_count": 122,
     "metadata": {},
     "output_type": "execute_result"
    }
   ],
   "source": [
    "#stacking multiple arrays\n",
    "np.vstack((a_array1,a_array2))\n",
    "np.hstack((a_array1,a_array2))"
   ]
  },
  {
   "cell_type": "code",
   "execution_count": 125,
   "id": "f111074a",
   "metadata": {},
   "outputs": [
    {
     "data": {
      "text/plain": [
       "array([[ 1,  2,  3, 42, 50],\n",
       "       [ 4,  5,  6, 60, 42],\n",
       "       [10,  5,  6,  9, 10],\n",
       "       [14, 15, 60, 56, 21]])"
      ]
     },
     "execution_count": 125,
     "metadata": {},
     "output_type": "execute_result"
    }
   ],
   "source": [
    "#create array from a file\n",
    "f = np.genfromtxt('readnp.txt',delimiter=',',dtype='int32')\n",
    "f"
   ]
  },
  {
   "cell_type": "code",
   "execution_count": 137,
   "id": "35e40742",
   "metadata": {},
   "outputs": [
    {
     "data": {
      "text/plain": [
       "array([42, 42, 21])"
      ]
     },
     "execution_count": 137,
     "metadata": {},
     "output_type": "execute_result"
    }
   ],
   "source": [
    "#advance indexing\n",
    "f<20\n",
    "f[f>20]\n",
    "f[(f>20) | (f<50)]\n",
    "f[(f>20) & (f<50)]"
   ]
  },
  {
   "cell_type": "code",
   "execution_count": 136,
   "id": "c53672c1",
   "metadata": {},
   "outputs": [
    {
     "data": {
      "text/plain": [
       "array([[ 3,  4,  5, 44, 52],\n",
       "       [ 6,  7,  8, 62, 44],\n",
       "       [12,  7,  8, 11, 12],\n",
       "       [16, 17, 62, 58, 23]])"
      ]
     },
     "execution_count": 136,
     "metadata": {},
     "output_type": "execute_result"
    }
   ],
   "source": [
    "f+2"
   ]
  },
  {
   "cell_type": "code",
   "execution_count": null,
   "id": "9af5d127",
   "metadata": {},
   "outputs": [],
   "source": []
  }
 ],
 "metadata": {
  "kernelspec": {
   "display_name": "Python 3 (ipykernel)",
   "language": "python",
   "name": "python3"
  },
  "language_info": {
   "codemirror_mode": {
    "name": "ipython",
    "version": 3
   },
   "file_extension": ".py",
   "mimetype": "text/x-python",
   "name": "python",
   "nbconvert_exporter": "python",
   "pygments_lexer": "ipython3",
   "version": "3.11.3"
  }
 },
 "nbformat": 4,
 "nbformat_minor": 5
}
