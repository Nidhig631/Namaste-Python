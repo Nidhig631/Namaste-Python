{
 "cells": [
  {
   "cell_type": "code",
   "execution_count": 2,
   "metadata": {},
   "outputs": [
    {
     "data": {
      "text/plain": [
       "array([[8, 3, 3, 6],\n",
       "       [8, 5, 6, 4],\n",
       "       [1, 3, 2, 6]])"
      ]
     },
     "execution_count": 2,
     "metadata": {},
     "output_type": "execute_result"
    }
   ],
   "source": [
    "# 1- Create a numpy array of shape (3, 4) and assign \n",
    "# random integers between 1 and 10 to every element.\n",
    "import numpy as np\n",
    "a_array = np.random.randint(1,10,size=(3,4))\n",
    "a_array"
   ]
  },
  {
   "cell_type": "code",
   "execution_count": 36,
   "metadata": {},
   "outputs": [
    {
     "data": {
      "text/plain": [
       "9"
      ]
     },
     "execution_count": 36,
     "metadata": {},
     "output_type": "execute_result"
    }
   ],
   "source": [
    "# 2- Find the maximum value in the array created in step 1.\n",
    "\n",
    "np.max(a_array)"
   ]
  },
  {
   "cell_type": "code",
   "execution_count": 40,
   "metadata": {},
   "outputs": [
    {
     "data": {
      "text/plain": [
       "array([4, 5, 4], dtype=int32)"
      ]
     },
     "execution_count": 40,
     "metadata": {},
     "output_type": "execute_result"
    }
   ],
   "source": [
    "# 3- Calculate the mean value of each row in the array.\n",
    "\n",
    "np.mean(a_array,axis=1,dtype='int32')"
   ]
  },
  {
   "cell_type": "code",
   "execution_count": 41,
   "metadata": {},
   "outputs": [
    {
     "data": {
      "text/plain": [
       "array([[4, 1, 4, 7, 3, 6],\n",
       "       [3, 9, 1, 9, 3, 4]])"
      ]
     },
     "execution_count": 41,
     "metadata": {},
     "output_type": "execute_result"
    }
   ],
   "source": [
    "# 4- Reshape the array from step 1 into a shape of (2, 6).\n",
    "\n",
    "np.reshape(a_array,(2,6))"
   ]
  },
  {
   "cell_type": "code",
   "execution_count": 42,
   "metadata": {},
   "outputs": [
    {
     "data": {
      "text/plain": [
       "array([[ 8,  2,  8, 14],\n",
       "       [ 6, 12,  6, 18],\n",
       "       [ 2, 18,  6,  8]])"
      ]
     },
     "execution_count": 42,
     "metadata": {},
     "output_type": "execute_result"
    }
   ],
   "source": [
    "a_array*2"
   ]
  },
  {
   "cell_type": "code",
   "execution_count": 59,
   "metadata": {},
   "outputs": [
    {
     "data": {
      "text/plain": [
       "array([1, 3, 5, 7, 9])"
      ]
     },
     "execution_count": 59,
     "metadata": {},
     "output_type": "execute_result"
    }
   ],
   "source": [
    "# 6- Create a numpy array with values ranging from 0 to 9.\n",
    "#  Extract the odd numbers from the array.\n",
    "import numpy as np\n",
    "b_array = np.arange(10)\n",
    "oddno = b_array[b_array % 2 !=0]\n",
    "oddno"
   ]
  },
  {
   "cell_type": "code",
   "execution_count": 65,
   "metadata": {},
   "outputs": [
    {
     "data": {
      "text/plain": [
       "array([[1, 0, 0],\n",
       "       [0, 1, 0],\n",
       "       [0, 0, 1]], dtype=int32)"
      ]
     },
     "execution_count": 65,
     "metadata": {},
     "output_type": "execute_result"
    }
   ],
   "source": [
    "# 7- Create a 3x3 identity matrix using numpy.\n",
    "\n",
    "c_array = np.identity(3,dtype='int32')\n",
    "c_array"
   ]
  },
  {
   "cell_type": "code",
   "execution_count": 76,
   "metadata": {},
   "outputs": [
    {
     "data": {
      "text/plain": [
       "array([[ 0.99911409, -1.6313587 ,  0.18580108, -0.26931775, -1.09519572],\n",
       "       [-0.89962587,  1.41188821, -1.67452438,  0.32352242,  0.72808246],\n",
       "       [-1.35439648,  0.18782956,  0.81683693, -0.60406049,  0.70766859],\n",
       "       [-0.78208725, -1.30324651,  1.29166463,  1.57889551,  0.11174052],\n",
       "       [ 0.77710567,  0.57399068, -0.9224018 , -0.51895292,  1.3610275 ]])"
      ]
     },
     "execution_count": 76,
     "metadata": {},
     "output_type": "execute_result"
    }
   ],
   "source": [
    "# 8- Create a 5x5 array with random values and normalize it\n",
    "#  (subtract the mean and divide by the standard deviation of the array).\n",
    "\n",
    "d_array = np.random.rand(5,5)\n",
    "d_array\n",
    "std = np.std(d_array)\n",
    "mean = np.mean(d_array)\n",
    "n = (d_array - mean) / std\n",
    "n"
   ]
  },
  {
   "cell_type": "code",
   "execution_count": 89,
   "metadata": {},
   "outputs": [
    {
     "data": {
      "text/plain": [
       "array([[9, 8, 4],\n",
       "       [4, 9, 4]])"
      ]
     },
     "execution_count": 89,
     "metadata": {},
     "output_type": "execute_result"
    }
   ],
   "source": [
    "# 9- Perform element-wise multiplication between two arrays of the same shape.\n",
    "\n",
    "array1 = np.random.randint(1,10,size =(2,3))\n",
    "array2 = np.random.randint(1,10,size =(2,3))\n",
    "array1"
   ]
  },
  {
   "cell_type": "code",
   "execution_count": 90,
   "metadata": {},
   "outputs": [
    {
     "data": {
      "text/plain": [
       "array([[6, 7, 3],\n",
       "       [4, 6, 6]])"
      ]
     },
     "execution_count": 90,
     "metadata": {},
     "output_type": "execute_result"
    }
   ],
   "source": [
    "array2"
   ]
  },
  {
   "cell_type": "code",
   "execution_count": 93,
   "metadata": {},
   "outputs": [
    {
     "data": {
      "text/plain": [
       "array([[54, 56, 12],\n",
       "       [16, 54, 24]])"
      ]
     },
     "execution_count": 93,
     "metadata": {},
     "output_type": "execute_result"
    }
   ],
   "source": [
    "array3=array1 * array2\n"
   ]
  },
  {
   "cell_type": "code",
   "execution_count": null,
   "metadata": {},
   "outputs": [],
   "source": [
    "array3"
   ]
  },
  {
   "cell_type": "code",
   "execution_count": 105,
   "metadata": {},
   "outputs": [
    {
     "data": {
      "text/plain": [
       "array([[1.20822002, 2.16912067],\n",
       "       [1.68196456, 0.15955555]])"
      ]
     },
     "execution_count": 105,
     "metadata": {},
     "output_type": "execute_result"
    }
   ],
   "source": [
    "# 10 - Given an array of heights in centimeters, convert them to inches (1 inch = 2.54 cm).\n",
    "\n",
    "m_array = np.random.rand(2,2)\n",
    "m_array\n",
    "\n",
    "m_array_inch = m_array * 2.54\n",
    "m_array_inch\n"
   ]
  },
  {
   "cell_type": "code",
   "execution_count": 3,
   "metadata": {},
   "outputs": [
    {
     "data": {
      "text/plain": [
       "array([ 0, -1,  2, -1,  4, -1,  6, -1,  8, -1])"
      ]
     },
     "execution_count": 3,
     "metadata": {},
     "output_type": "execute_result"
    }
   ],
   "source": [
    "# 11 - Create a 1D array of numbers from 0 to 9. Replace all odd numbers with -1.\n",
    "\n",
    "o_array = np.arange(10)\n",
    "o_array\n",
    "o_array[o_array%2!=0] = -1\n",
    "o_array\n"
   ]
  },
  {
   "cell_type": "code",
   "execution_count": 7,
   "metadata": {},
   "outputs": [
    {
     "data": {
      "text/plain": [
       "array([[1, 9],\n",
       "       [8, 3]])"
      ]
     },
     "execution_count": 7,
     "metadata": {},
     "output_type": "execute_result"
    }
   ],
   "source": [
    "# 12 - Create a 2D array with random values and find the indices of \n",
    "# the maximum and minimum values.\n",
    "\n",
    "k_array = np.random.randint(10,size=(2,2))\n",
    "k_array"
   ]
  },
  {
   "cell_type": "code",
   "execution_count": 9,
   "metadata": {},
   "outputs": [
    {
     "name": "stdout",
     "output_type": "stream",
     "text": [
      "Maximum value index: (0, 1)\n"
     ]
    }
   ],
   "source": [
    "max =  np.unravel_index(np.argmax(k_array), k_array.shape)\n",
    "print(\"Maximum value index:\", max)"
   ]
  },
  {
   "cell_type": "code",
   "execution_count": 169,
   "metadata": {},
   "outputs": [
    {
     "name": "stdout",
     "output_type": "stream",
     "text": [
      "Minimum value index: (0, 1)\n"
     ]
    }
   ],
   "source": []
  },
  {
   "cell_type": "code",
   "execution_count": null,
   "metadata": {},
   "outputs": [],
   "source": [
    "min =  np.unravel_index(np.argmin(k_array), k_array.shape)\n",
    "print(\"Minimum value index:\", min)"
   ]
  },
  {
   "cell_type": "code",
   "execution_count": 19,
   "metadata": {},
   "outputs": [
    {
     "name": "stdout",
     "output_type": "stream",
     "text": [
      "(2, 2)\n",
      "[[-1.12462104 -0.87578927 -1.07279806 -1.14702974]\n",
      " [ 0.78220394  0.7320075   1.17119767  0.52260448]\n",
      " [ 0.61779605 -2.10253148  2.15744991 -2.02924819]]\n"
     ]
    }
   ],
   "source": [
    "import numpy as np\n",
    "# Create a 2D array with random values\n",
    "arr = np.random.randn(3, 4)\n",
    "# Find the indices of the maximum and minimum values\n",
    "max_index = np.unravel_index(np.argmax(arr), arr.shape) #numpy.unravel_index() function converts a flat index or array of flat indices into a tuple of coordinate arrays.\n",
    "min_index = np.unravel_index(np.argmin(arr), arr.shape)\n",
    "\n",
    "print(max_index)\n",
    "print(arr)\n",
    "# print(\"Array:\")\n",
    "# print(arr)\n",
    "# print(\"Maximum value index:\", max_index)\n",
    "# print(\"Minimum value index:\", min_index)\n"
   ]
  }
 ],
 "metadata": {
  "kernelspec": {
   "display_name": "Python 3",
   "language": "python",
   "name": "python3"
  },
  "language_info": {
   "codemirror_mode": {
    "name": "ipython",
    "version": 3
   },
   "file_extension": ".py",
   "mimetype": "text/x-python",
   "name": "python",
   "nbconvert_exporter": "python",
   "pygments_lexer": "ipython3",
   "version": "3.9.12"
  },
  "orig_nbformat": 4
 },
 "nbformat": 4,
 "nbformat_minor": 2
}
